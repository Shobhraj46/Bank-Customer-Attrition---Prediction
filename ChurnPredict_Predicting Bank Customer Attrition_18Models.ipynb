{
 "cells": [
  {
   "cell_type": "markdown",
   "metadata": {
    "id": "uct1vriv9JRj"
   },
   "source": [
    "# About the Dataset:\n",
    "\n",
    "This data set contains details of a bank's customers and the target variable is a binary variable reflecting the fact whether the customer left the bank (closed his account) or he continues to be a customer.\n",
    "Develop a machine learning model to predict whether customer left the bank using the features provided in the dataset. Prior to building the ML model EDA needs to carried out to understand and clean the data.         \n"
   ]
  },
  {
   "cell_type": "code",
   "execution_count": 1,
   "metadata": {},
   "outputs": [],
   "source": [
    "import warnings\n",
    "warnings.filterwarnings(\"ignore\")"
   ]
  },
  {
   "cell_type": "code",
   "execution_count": 2,
   "metadata": {
    "id": "oNlB5ESx9JRm"
   },
   "outputs": [],
   "source": [
    "import numpy as np\n",
    "import pandas as pd\n",
    "import seaborn as sns\n",
    "import matplotlib.pyplot as plt\n",
    "\n",
    "from sklearn.model_selection import cross_val_score,KFold\n",
    "from imblearn.over_sampling import SMOTE\n",
    "from sklearn.model_selection import train_test_split,GridSearchCV\n",
    "from scipy import stats\n",
    "from sklearn.metrics import classification_report,roc_curve,confusion_matrix,accuracy_score,recall_score,precision_score,f1_score"
   ]
  },
  {
   "cell_type": "code",
   "execution_count": 3,
   "metadata": {},
   "outputs": [],
   "source": [
    "from sklearn.tree import DecisionTreeClassifier\n",
    "from sklearn.neighbors import KNeighborsClassifier\n",
    "from sklearn.linear_model import LogisticRegression\n",
    "from sklearn.ensemble import RandomForestClassifier\n",
    "from sklearn.naive_bayes import GaussianNB\n",
    "from xgboost import XGBClassifier"
   ]
  },
  {
   "cell_type": "markdown",
   "metadata": {
    "id": "52Cz1V5Z9JRn"
   },
   "source": [
    "### Data Understanding"
   ]
  },
  {
   "cell_type": "code",
   "execution_count": 4,
   "metadata": {
    "id": "X1vEU7uk9JRo",
    "outputId": "6ea60e40-7a06-481c-90bf-89f3944a97d8"
   },
   "outputs": [
    {
     "data": {
      "text/html": [
       "<div>\n",
       "<style scoped>\n",
       "    .dataframe tbody tr th:only-of-type {\n",
       "        vertical-align: middle;\n",
       "    }\n",
       "\n",
       "    .dataframe tbody tr th {\n",
       "        vertical-align: top;\n",
       "    }\n",
       "\n",
       "    .dataframe thead th {\n",
       "        text-align: right;\n",
       "    }\n",
       "</style>\n",
       "<table border=\"1\" class=\"dataframe\">\n",
       "  <thead>\n",
       "    <tr style=\"text-align: right;\">\n",
       "      <th></th>\n",
       "      <th>RowNumber</th>\n",
       "      <th>CustomerId</th>\n",
       "      <th>Surname</th>\n",
       "      <th>CreditScore</th>\n",
       "      <th>Geography</th>\n",
       "      <th>Gender</th>\n",
       "      <th>Age</th>\n",
       "      <th>Tenure</th>\n",
       "      <th>Balance</th>\n",
       "      <th>NumOfProducts</th>\n",
       "      <th>HasCrCard</th>\n",
       "      <th>IsActiveMember</th>\n",
       "      <th>EstimatedSalary</th>\n",
       "      <th>Exited</th>\n",
       "    </tr>\n",
       "  </thead>\n",
       "  <tbody>\n",
       "    <tr>\n",
       "      <th>0</th>\n",
       "      <td>1</td>\n",
       "      <td>15634602</td>\n",
       "      <td>Hargrave</td>\n",
       "      <td>619</td>\n",
       "      <td>France</td>\n",
       "      <td>Female</td>\n",
       "      <td>42</td>\n",
       "      <td>2</td>\n",
       "      <td>0.00</td>\n",
       "      <td>1</td>\n",
       "      <td>1</td>\n",
       "      <td>1</td>\n",
       "      <td>101348.88</td>\n",
       "      <td>1</td>\n",
       "    </tr>\n",
       "    <tr>\n",
       "      <th>1</th>\n",
       "      <td>2</td>\n",
       "      <td>15647311</td>\n",
       "      <td>Hill</td>\n",
       "      <td>608</td>\n",
       "      <td>Spain</td>\n",
       "      <td>Female</td>\n",
       "      <td>41</td>\n",
       "      <td>1</td>\n",
       "      <td>83807.86</td>\n",
       "      <td>1</td>\n",
       "      <td>0</td>\n",
       "      <td>1</td>\n",
       "      <td>112542.58</td>\n",
       "      <td>0</td>\n",
       "    </tr>\n",
       "    <tr>\n",
       "      <th>2</th>\n",
       "      <td>3</td>\n",
       "      <td>15619304</td>\n",
       "      <td>Onio</td>\n",
       "      <td>502</td>\n",
       "      <td>France</td>\n",
       "      <td>Female</td>\n",
       "      <td>42</td>\n",
       "      <td>8</td>\n",
       "      <td>159660.80</td>\n",
       "      <td>3</td>\n",
       "      <td>1</td>\n",
       "      <td>0</td>\n",
       "      <td>113931.57</td>\n",
       "      <td>1</td>\n",
       "    </tr>\n",
       "    <tr>\n",
       "      <th>3</th>\n",
       "      <td>4</td>\n",
       "      <td>15701354</td>\n",
       "      <td>Boni</td>\n",
       "      <td>699</td>\n",
       "      <td>France</td>\n",
       "      <td>Female</td>\n",
       "      <td>39</td>\n",
       "      <td>1</td>\n",
       "      <td>0.00</td>\n",
       "      <td>2</td>\n",
       "      <td>0</td>\n",
       "      <td>0</td>\n",
       "      <td>93826.63</td>\n",
       "      <td>0</td>\n",
       "    </tr>\n",
       "    <tr>\n",
       "      <th>4</th>\n",
       "      <td>5</td>\n",
       "      <td>15737888</td>\n",
       "      <td>Mitchell</td>\n",
       "      <td>850</td>\n",
       "      <td>Spain</td>\n",
       "      <td>Female</td>\n",
       "      <td>43</td>\n",
       "      <td>2</td>\n",
       "      <td>125510.82</td>\n",
       "      <td>1</td>\n",
       "      <td>1</td>\n",
       "      <td>1</td>\n",
       "      <td>79084.10</td>\n",
       "      <td>0</td>\n",
       "    </tr>\n",
       "  </tbody>\n",
       "</table>\n",
       "</div>"
      ],
      "text/plain": [
       "   RowNumber  CustomerId   Surname  CreditScore Geography  Gender  Age  \\\n",
       "0          1    15634602  Hargrave          619    France  Female   42   \n",
       "1          2    15647311      Hill          608     Spain  Female   41   \n",
       "2          3    15619304      Onio          502    France  Female   42   \n",
       "3          4    15701354      Boni          699    France  Female   39   \n",
       "4          5    15737888  Mitchell          850     Spain  Female   43   \n",
       "\n",
       "   Tenure    Balance  NumOfProducts  HasCrCard  IsActiveMember  \\\n",
       "0       2       0.00              1          1               1   \n",
       "1       1   83807.86              1          0               1   \n",
       "2       8  159660.80              3          1               0   \n",
       "3       1       0.00              2          0               0   \n",
       "4       2  125510.82              1          1               1   \n",
       "\n",
       "   EstimatedSalary  Exited  \n",
       "0        101348.88       1  \n",
       "1        112542.58       0  \n",
       "2        113931.57       1  \n",
       "3         93826.63       0  \n",
       "4         79084.10       0  "
      ]
     },
     "execution_count": 4,
     "metadata": {},
     "output_type": "execute_result"
    }
   ],
   "source": [
    "df=pd.read_csv(\"Churn_Modelling.csv\")\n",
    "df.head()"
   ]
  },
  {
   "cell_type": "code",
   "execution_count": 5,
   "metadata": {
    "id": "lsNrimie9JRq",
    "outputId": "c0b2b458-644d-45c9-83d0-4b68e198be9d"
   },
   "outputs": [
    {
     "data": {
      "text/plain": [
       "(10000, 14)"
      ]
     },
     "execution_count": 5,
     "metadata": {},
     "output_type": "execute_result"
    }
   ],
   "source": [
    "df.shape"
   ]
  },
  {
   "cell_type": "code",
   "execution_count": 6,
   "metadata": {},
   "outputs": [],
   "source": [
    "df = df.drop(['RowNumber', 'CustomerId','Surname'], axis=1) #These features are not helping for the model"
   ]
  },
  {
   "cell_type": "code",
   "execution_count": 7,
   "metadata": {},
   "outputs": [
    {
     "data": {
      "text/plain": [
       "(10000, 11)"
      ]
     },
     "execution_count": 7,
     "metadata": {},
     "output_type": "execute_result"
    }
   ],
   "source": [
    "df.shape"
   ]
  },
  {
   "cell_type": "code",
   "execution_count": 8,
   "metadata": {},
   "outputs": [
    {
     "data": {
      "text/plain": [
       "CreditScore          int64\n",
       "Geography           object\n",
       "Gender              object\n",
       "Age                  int64\n",
       "Tenure               int64\n",
       "Balance            float64\n",
       "NumOfProducts        int64\n",
       "HasCrCard            int64\n",
       "IsActiveMember       int64\n",
       "EstimatedSalary    float64\n",
       "Exited               int64\n",
       "dtype: object"
      ]
     },
     "execution_count": 8,
     "metadata": {},
     "output_type": "execute_result"
    }
   ],
   "source": [
    "df.dtypes"
   ]
  },
  {
   "cell_type": "code",
   "execution_count": 9,
   "metadata": {
    "id": "jktWIM2u9JRq",
    "outputId": "cd066349-eea2-4d12-efc8-22b54766ac21"
   },
   "outputs": [
    {
     "name": "stdout",
     "output_type": "stream",
     "text": [
      "The number of numeric columns 9\n",
      "The number of categorical columns 2\n"
     ]
    }
   ],
   "source": [
    "print('The number of numeric columns', df.select_dtypes(include=np.number).shape[1])\n",
    "print('The number of categorical columns', df.select_dtypes(exclude=np.number).shape[1])"
   ]
  },
  {
   "cell_type": "code",
   "execution_count": 10,
   "metadata": {
    "id": "GCY5m4NV9JRt",
    "outputId": "f7a4e04f-9f14-4776-e715-3da5dec954de"
   },
   "outputs": [
    {
     "data": {
      "text/html": [
       "<div>\n",
       "<style scoped>\n",
       "    .dataframe tbody tr th:only-of-type {\n",
       "        vertical-align: middle;\n",
       "    }\n",
       "\n",
       "    .dataframe tbody tr th {\n",
       "        vertical-align: top;\n",
       "    }\n",
       "\n",
       "    .dataframe thead th {\n",
       "        text-align: right;\n",
       "    }\n",
       "</style>\n",
       "<table border=\"1\" class=\"dataframe\">\n",
       "  <thead>\n",
       "    <tr style=\"text-align: right;\">\n",
       "      <th></th>\n",
       "      <th>CreditScore</th>\n",
       "      <th>Age</th>\n",
       "      <th>Tenure</th>\n",
       "      <th>Balance</th>\n",
       "      <th>NumOfProducts</th>\n",
       "      <th>EstimatedSalary</th>\n",
       "    </tr>\n",
       "  </thead>\n",
       "  <tbody>\n",
       "    <tr>\n",
       "      <th>count</th>\n",
       "      <td>10000.000000</td>\n",
       "      <td>10000.000000</td>\n",
       "      <td>10000.000000</td>\n",
       "      <td>10000.000000</td>\n",
       "      <td>10000.000000</td>\n",
       "      <td>10000.000000</td>\n",
       "    </tr>\n",
       "    <tr>\n",
       "      <th>mean</th>\n",
       "      <td>650.528800</td>\n",
       "      <td>38.921800</td>\n",
       "      <td>5.012800</td>\n",
       "      <td>76485.889288</td>\n",
       "      <td>1.530200</td>\n",
       "      <td>100090.239881</td>\n",
       "    </tr>\n",
       "    <tr>\n",
       "      <th>std</th>\n",
       "      <td>96.653299</td>\n",
       "      <td>10.487806</td>\n",
       "      <td>2.892174</td>\n",
       "      <td>62397.405202</td>\n",
       "      <td>0.581654</td>\n",
       "      <td>57510.492818</td>\n",
       "    </tr>\n",
       "    <tr>\n",
       "      <th>min</th>\n",
       "      <td>350.000000</td>\n",
       "      <td>18.000000</td>\n",
       "      <td>0.000000</td>\n",
       "      <td>0.000000</td>\n",
       "      <td>1.000000</td>\n",
       "      <td>11.580000</td>\n",
       "    </tr>\n",
       "    <tr>\n",
       "      <th>25%</th>\n",
       "      <td>584.000000</td>\n",
       "      <td>32.000000</td>\n",
       "      <td>3.000000</td>\n",
       "      <td>0.000000</td>\n",
       "      <td>1.000000</td>\n",
       "      <td>51002.110000</td>\n",
       "    </tr>\n",
       "    <tr>\n",
       "      <th>50%</th>\n",
       "      <td>652.000000</td>\n",
       "      <td>37.000000</td>\n",
       "      <td>5.000000</td>\n",
       "      <td>97198.540000</td>\n",
       "      <td>1.000000</td>\n",
       "      <td>100193.915000</td>\n",
       "    </tr>\n",
       "    <tr>\n",
       "      <th>75%</th>\n",
       "      <td>718.000000</td>\n",
       "      <td>44.000000</td>\n",
       "      <td>7.000000</td>\n",
       "      <td>127644.240000</td>\n",
       "      <td>2.000000</td>\n",
       "      <td>149388.247500</td>\n",
       "    </tr>\n",
       "    <tr>\n",
       "      <th>max</th>\n",
       "      <td>850.000000</td>\n",
       "      <td>92.000000</td>\n",
       "      <td>10.000000</td>\n",
       "      <td>250898.090000</td>\n",
       "      <td>4.000000</td>\n",
       "      <td>199992.480000</td>\n",
       "    </tr>\n",
       "  </tbody>\n",
       "</table>\n",
       "</div>"
      ],
      "text/plain": [
       "        CreditScore           Age        Tenure        Balance  NumOfProducts  \\\n",
       "count  10000.000000  10000.000000  10000.000000   10000.000000   10000.000000   \n",
       "mean     650.528800     38.921800      5.012800   76485.889288       1.530200   \n",
       "std       96.653299     10.487806      2.892174   62397.405202       0.581654   \n",
       "min      350.000000     18.000000      0.000000       0.000000       1.000000   \n",
       "25%      584.000000     32.000000      3.000000       0.000000       1.000000   \n",
       "50%      652.000000     37.000000      5.000000   97198.540000       1.000000   \n",
       "75%      718.000000     44.000000      7.000000  127644.240000       2.000000   \n",
       "max      850.000000     92.000000     10.000000  250898.090000       4.000000   \n",
       "\n",
       "       EstimatedSalary  \n",
       "count     10000.000000  \n",
       "mean     100090.239881  \n",
       "std       57510.492818  \n",
       "min          11.580000  \n",
       "25%       51002.110000  \n",
       "50%      100193.915000  \n",
       "75%      149388.247500  \n",
       "max      199992.480000  "
      ]
     },
     "execution_count": 10,
     "metadata": {},
     "output_type": "execute_result"
    }
   ],
   "source": [
    "df[['CreditScore','Age','Tenure','Balance','NumOfProducts','EstimatedSalary']].describe()"
   ]
  },
  {
   "cell_type": "code",
   "execution_count": 11,
   "metadata": {
    "id": "1o-uhXS79JRu",
    "outputId": "68d0b16e-4709-4724-c7c6-7bd4e40f46a7"
   },
   "outputs": [
    {
     "data": {
      "text/html": [
       "<div>\n",
       "<style scoped>\n",
       "    .dataframe tbody tr th:only-of-type {\n",
       "        vertical-align: middle;\n",
       "    }\n",
       "\n",
       "    .dataframe tbody tr th {\n",
       "        vertical-align: top;\n",
       "    }\n",
       "\n",
       "    .dataframe thead th {\n",
       "        text-align: right;\n",
       "    }\n",
       "</style>\n",
       "<table border=\"1\" class=\"dataframe\">\n",
       "  <thead>\n",
       "    <tr style=\"text-align: right;\">\n",
       "      <th></th>\n",
       "      <th>Geography</th>\n",
       "      <th>Gender</th>\n",
       "    </tr>\n",
       "  </thead>\n",
       "  <tbody>\n",
       "    <tr>\n",
       "      <th>count</th>\n",
       "      <td>10000</td>\n",
       "      <td>10000</td>\n",
       "    </tr>\n",
       "    <tr>\n",
       "      <th>unique</th>\n",
       "      <td>3</td>\n",
       "      <td>2</td>\n",
       "    </tr>\n",
       "    <tr>\n",
       "      <th>top</th>\n",
       "      <td>France</td>\n",
       "      <td>Male</td>\n",
       "    </tr>\n",
       "    <tr>\n",
       "      <th>freq</th>\n",
       "      <td>5014</td>\n",
       "      <td>5457</td>\n",
       "    </tr>\n",
       "  </tbody>\n",
       "</table>\n",
       "</div>"
      ],
      "text/plain": [
       "       Geography Gender\n",
       "count      10000  10000\n",
       "unique         3      2\n",
       "top       France   Male\n",
       "freq        5014   5457"
      ]
     },
     "execution_count": 11,
     "metadata": {},
     "output_type": "execute_result"
    }
   ],
   "source": [
    "df[['Geography','Gender']].describe()"
   ]
  },
  {
   "cell_type": "code",
   "execution_count": 12,
   "metadata": {
    "id": "inYYiCvc9JRw",
    "outputId": "d1a9ddd0-5932-4def-865b-4464a7b44d87"
   },
   "outputs": [
    {
     "data": {
      "text/plain": [
       "array(['France', 'Spain', 'Germany'], dtype=object)"
      ]
     },
     "execution_count": 12,
     "metadata": {},
     "output_type": "execute_result"
    }
   ],
   "source": [
    "df['Geography'].unique()"
   ]
  },
  {
   "cell_type": "code",
   "execution_count": 13,
   "metadata": {
    "id": "lmpao9aA9JRw",
    "outputId": "0476a45f-9580-451f-fa99-9cc9ad84bc5c"
   },
   "outputs": [
    {
     "data": {
      "text/plain": [
       "array(['Female', 'Male'], dtype=object)"
      ]
     },
     "execution_count": 13,
     "metadata": {},
     "output_type": "execute_result"
    }
   ],
   "source": [
    "df['Gender'].unique()"
   ]
  },
  {
   "cell_type": "code",
   "execution_count": 14,
   "metadata": {
    "id": "AuIJdm9L9JRx"
   },
   "outputs": [],
   "source": [
    "# as these columns are nominal and also have only few levels, one hot encoding is preferable"
   ]
  },
  {
   "cell_type": "code",
   "execution_count": 15,
   "metadata": {
    "id": "aMJx7KHe9JRx",
    "outputId": "c7c36846-32f1-4b6e-9b9a-cd54165ff380"
   },
   "outputs": [
    {
     "data": {
      "text/html": [
       "<div>\n",
       "<style scoped>\n",
       "    .dataframe tbody tr th:only-of-type {\n",
       "        vertical-align: middle;\n",
       "    }\n",
       "\n",
       "    .dataframe tbody tr th {\n",
       "        vertical-align: top;\n",
       "    }\n",
       "\n",
       "    .dataframe thead th {\n",
       "        text-align: right;\n",
       "    }\n",
       "</style>\n",
       "<table border=\"1\" class=\"dataframe\">\n",
       "  <thead>\n",
       "    <tr style=\"text-align: right;\">\n",
       "      <th></th>\n",
       "      <th>CreditScore</th>\n",
       "      <th>Age</th>\n",
       "      <th>Tenure</th>\n",
       "      <th>Balance</th>\n",
       "      <th>NumOfProducts</th>\n",
       "      <th>HasCrCard</th>\n",
       "      <th>IsActiveMember</th>\n",
       "      <th>EstimatedSalary</th>\n",
       "      <th>Exited</th>\n",
       "      <th>Geography_Germany</th>\n",
       "      <th>Geography_Spain</th>\n",
       "      <th>Gender_Male</th>\n",
       "    </tr>\n",
       "  </thead>\n",
       "  <tbody>\n",
       "    <tr>\n",
       "      <th>0</th>\n",
       "      <td>619</td>\n",
       "      <td>42</td>\n",
       "      <td>2</td>\n",
       "      <td>0.00</td>\n",
       "      <td>1</td>\n",
       "      <td>1</td>\n",
       "      <td>1</td>\n",
       "      <td>101348.88</td>\n",
       "      <td>1</td>\n",
       "      <td>0</td>\n",
       "      <td>0</td>\n",
       "      <td>0</td>\n",
       "    </tr>\n",
       "    <tr>\n",
       "      <th>1</th>\n",
       "      <td>608</td>\n",
       "      <td>41</td>\n",
       "      <td>1</td>\n",
       "      <td>83807.86</td>\n",
       "      <td>1</td>\n",
       "      <td>0</td>\n",
       "      <td>1</td>\n",
       "      <td>112542.58</td>\n",
       "      <td>0</td>\n",
       "      <td>0</td>\n",
       "      <td>1</td>\n",
       "      <td>0</td>\n",
       "    </tr>\n",
       "    <tr>\n",
       "      <th>2</th>\n",
       "      <td>502</td>\n",
       "      <td>42</td>\n",
       "      <td>8</td>\n",
       "      <td>159660.80</td>\n",
       "      <td>3</td>\n",
       "      <td>1</td>\n",
       "      <td>0</td>\n",
       "      <td>113931.57</td>\n",
       "      <td>1</td>\n",
       "      <td>0</td>\n",
       "      <td>0</td>\n",
       "      <td>0</td>\n",
       "    </tr>\n",
       "    <tr>\n",
       "      <th>3</th>\n",
       "      <td>699</td>\n",
       "      <td>39</td>\n",
       "      <td>1</td>\n",
       "      <td>0.00</td>\n",
       "      <td>2</td>\n",
       "      <td>0</td>\n",
       "      <td>0</td>\n",
       "      <td>93826.63</td>\n",
       "      <td>0</td>\n",
       "      <td>0</td>\n",
       "      <td>0</td>\n",
       "      <td>0</td>\n",
       "    </tr>\n",
       "    <tr>\n",
       "      <th>4</th>\n",
       "      <td>850</td>\n",
       "      <td>43</td>\n",
       "      <td>2</td>\n",
       "      <td>125510.82</td>\n",
       "      <td>1</td>\n",
       "      <td>1</td>\n",
       "      <td>1</td>\n",
       "      <td>79084.10</td>\n",
       "      <td>0</td>\n",
       "      <td>0</td>\n",
       "      <td>1</td>\n",
       "      <td>0</td>\n",
       "    </tr>\n",
       "  </tbody>\n",
       "</table>\n",
       "</div>"
      ],
      "text/plain": [
       "   CreditScore  Age  Tenure    Balance  NumOfProducts  HasCrCard  \\\n",
       "0          619   42       2       0.00              1          1   \n",
       "1          608   41       1   83807.86              1          0   \n",
       "2          502   42       8  159660.80              3          1   \n",
       "3          699   39       1       0.00              2          0   \n",
       "4          850   43       2  125510.82              1          1   \n",
       "\n",
       "   IsActiveMember  EstimatedSalary  Exited  Geography_Germany  \\\n",
       "0               1        101348.88       1                  0   \n",
       "1               1        112542.58       0                  0   \n",
       "2               0        113931.57       1                  0   \n",
       "3               0         93826.63       0                  0   \n",
       "4               1         79084.10       0                  0   \n",
       "\n",
       "   Geography_Spain  Gender_Male  \n",
       "0                0            0  \n",
       "1                1            0  \n",
       "2                0            0  \n",
       "3                0            0  \n",
       "4                1            0  "
      ]
     },
     "execution_count": 15,
     "metadata": {},
     "output_type": "execute_result"
    }
   ],
   "source": [
    "df=pd.get_dummies(df,columns=['Geography','Gender'], drop_first=True)\n",
    "df.head()"
   ]
  },
  {
   "cell_type": "code",
   "execution_count": 16,
   "metadata": {
    "id": "6C91jqVU9JRy",
    "outputId": "7c153cc1-3c7c-45e3-d34a-5ea37b0e87c3"
   },
   "outputs": [
    {
     "data": {
      "text/plain": [
       "(10000, 12)"
      ]
     },
     "execution_count": 16,
     "metadata": {},
     "output_type": "execute_result"
    }
   ],
   "source": [
    "df.shape"
   ]
  },
  {
   "cell_type": "code",
   "execution_count": 17,
   "metadata": {
    "id": "qMNpFxyS9JR1",
    "outputId": "7dc62629-6141-4659-b02d-480e38f90da5"
   },
   "outputs": [
    {
     "data": {
      "text/plain": [
       "0"
      ]
     },
     "execution_count": 17,
     "metadata": {},
     "output_type": "execute_result"
    }
   ],
   "source": [
    "df.isnull().sum().sum()"
   ]
  },
  {
   "cell_type": "markdown",
   "metadata": {},
   "source": [
    "### Data Preparation "
   ]
  },
  {
   "cell_type": "code",
   "execution_count": 18,
   "metadata": {
    "id": "wGBcCj4V9JR2"
   },
   "outputs": [],
   "source": [
    "# No missing values is present "
   ]
  },
  {
   "cell_type": "code",
   "execution_count": 19,
   "metadata": {
    "id": "U4iv20w79JR2"
   },
   "outputs": [],
   "source": [
    "#Check for outliers "
   ]
  },
  {
   "cell_type": "code",
   "execution_count": 20,
   "metadata": {
    "id": "qsobIDVC9JR3"
   },
   "outputs": [],
   "source": [
    "numeric=df[['CreditScore','Age','Tenure','Balance','NumOfProducts','EstimatedSalary']]"
   ]
  },
  {
   "cell_type": "code",
   "execution_count": 21,
   "metadata": {
    "id": "WLxtX69X9JR3",
    "outputId": "a2d6edd6-fb92-40f2-e3db-37c61dc779c6"
   },
   "outputs": [
    {
     "data": {
      "text/html": [
       "<div>\n",
       "<style scoped>\n",
       "    .dataframe tbody tr th:only-of-type {\n",
       "        vertical-align: middle;\n",
       "    }\n",
       "\n",
       "    .dataframe tbody tr th {\n",
       "        vertical-align: top;\n",
       "    }\n",
       "\n",
       "    .dataframe thead th {\n",
       "        text-align: right;\n",
       "    }\n",
       "</style>\n",
       "<table border=\"1\" class=\"dataframe\">\n",
       "  <thead>\n",
       "    <tr style=\"text-align: right;\">\n",
       "      <th></th>\n",
       "      <th>CreditScore</th>\n",
       "      <th>Age</th>\n",
       "      <th>Tenure</th>\n",
       "      <th>Balance</th>\n",
       "      <th>NumOfProducts</th>\n",
       "      <th>EstimatedSalary</th>\n",
       "    </tr>\n",
       "  </thead>\n",
       "  <tbody>\n",
       "    <tr>\n",
       "      <th>0</th>\n",
       "      <td>619</td>\n",
       "      <td>42</td>\n",
       "      <td>2</td>\n",
       "      <td>0.00</td>\n",
       "      <td>1</td>\n",
       "      <td>101348.88</td>\n",
       "    </tr>\n",
       "    <tr>\n",
       "      <th>1</th>\n",
       "      <td>608</td>\n",
       "      <td>41</td>\n",
       "      <td>1</td>\n",
       "      <td>83807.86</td>\n",
       "      <td>1</td>\n",
       "      <td>112542.58</td>\n",
       "    </tr>\n",
       "  </tbody>\n",
       "</table>\n",
       "</div>"
      ],
      "text/plain": [
       "   CreditScore  Age  Tenure   Balance  NumOfProducts  EstimatedSalary\n",
       "0          619   42       2      0.00              1        101348.88\n",
       "1          608   41       1  83807.86              1        112542.58"
      ]
     },
     "execution_count": 21,
     "metadata": {},
     "output_type": "execute_result"
    }
   ],
   "source": [
    "numeric.head(2)"
   ]
  },
  {
   "cell_type": "code",
   "execution_count": 22,
   "metadata": {
    "id": "qPrTIEvI9JR4",
    "outputId": "1ee81ef4-fb68-497c-c561-1a774ad9aebb"
   },
   "outputs": [
    {
     "data": {
      "image/png": "[encoded data removed]",
      "text/plain": [
       "<Figure size 640x480 with 1 Axes>"
      ]
     },
     "metadata": {},
     "output_type": "display_data"
    },
    {
     "data": {
      "image/png": "[encoded data removed]",
      "text/plain": [
       "<Figure size 640x480 with 1 Axes>"
      ]
     },
     "metadata": {},
     "output_type": "display_data"
    },
    {
     "data": {
      "image/png": "[encoded data removed]",
      "text/plain": [
       "<Figure size 640x480 with 1 Axes>"
      ]
     },
     "metadata": {},
     "output_type": "display_data"
    },
    {
     "data": {
      "image/png": "[encoded data removed]",
      "text/plain": [
       "<Figure size 640x480 with 1 Axes>"
      ]
     },
     "metadata": {},
     "output_type": "display_data"
    },
    {
     "data": {
      "image/png": "[encoded data removed]",
      "text/plain": [
       "<Figure size 640x480 with 1 Axes>"
      ]
     },
     "metadata": {},
     "output_type": "display_data"
    },
    {
     "data": {
      "image/png": "[encoded data removed]",
      "text/plain": [
       "<Figure size 640x480 with 1 Axes>"
      ]
     },
     "metadata": {},
     "output_type": "display_data"
    }
   ],
   "source": [
    "import seaborn as sb\n",
    "for i in numeric.columns:\n",
    "    sb.boxplot(numeric[i])\n",
    "    plt.show()"
   ]
  },
  {
   "cell_type": "code",
   "execution_count": 23,
   "metadata": {
    "id": "CyoMqJL29JR4"
   },
   "outputs": [],
   "source": [
    "#Outliers are present "
   ]
  },
  {
   "cell_type": "code",
   "execution_count": 24,
   "metadata": {
    "id": "mUPhcv0p9JR4"
   },
   "outputs": [],
   "source": [
    "# Removing outliers using z-score method"
   ]
  },
  {
   "cell_type": "code",
   "execution_count": 25,
   "metadata": {},
   "outputs": [],
   "source": [
    "q1 = df['Age'].quantile(0.25)\n",
    "q3 = df['Age'].quantile(0.75)\n",
    "iqr = q3 - q1\n",
    "ub = q3 + 1.5*iqr\n",
    "lb = q1 - 1.5*iqr\n",
    "df = df[~(df['Age']>ub)]"
   ]
  },
  {
   "cell_type": "code",
   "execution_count": 26,
   "metadata": {},
   "outputs": [],
   "source": [
    "q1 = df['CreditScore'].quantile(0.25)\n",
    "q3 = df['CreditScore'].quantile(0.75)\n",
    "iqr = q3 - q1\n",
    "ub = q3 + 1.5*iqr\n",
    "lb = q1 - 1.5*iqr\n",
    "df = df[~(df['CreditScore']<lb)]"
   ]
  },
  {
   "cell_type": "code",
   "execution_count": 27,
   "metadata": {},
   "outputs": [
    {
     "data": {
      "text/plain": [
       "(9627, 12)"
      ]
     },
     "execution_count": 27,
     "metadata": {},
     "output_type": "execute_result"
    }
   ],
   "source": [
    "df.shape"
   ]
  },
  {
   "cell_type": "code",
   "execution_count": 28,
   "metadata": {
    "id": "Q2LzB5ec9JR5",
    "outputId": "ebfc70b1-8b2e-442c-dd2f-a160790014e8"
   },
   "outputs": [],
   "source": [
    "# from scipy import stats\n",
    "# import numpy as np\n",
    "# z = np.abs(stats.zscore(df[['CreditScore','Age','Tenure','Balance','NumOfProducts','EstimatedSalary']]))\n",
    "# print(z)"
   ]
  },
  {
   "cell_type": "code",
   "execution_count": 29,
   "metadata": {
    "id": "E2L2_GNE9JR5"
   },
   "outputs": [],
   "source": [
    "#df =df[(z < 3).all(axis=1)]"
   ]
  },
  {
   "cell_type": "code",
   "execution_count": 30,
   "metadata": {
    "id": "wR3ffLrE9JR6",
    "outputId": "44a87ccf-1559-4d60-9c48-ffa97c938afd"
   },
   "outputs": [
    {
     "data": {
      "text/plain": [
       "(9627, 12)"
      ]
     },
     "execution_count": 30,
     "metadata": {},
     "output_type": "execute_result"
    }
   ],
   "source": [
    "df.shape"
   ]
  },
  {
   "cell_type": "code",
   "execution_count": 31,
   "metadata": {
    "id": "mXgpi9a89JR6",
    "outputId": "f41789d7-f528-4f7f-a3bb-04c1296d6ae9"
   },
   "outputs": [
    {
     "data": {
      "text/html": [
       "<div>\n",
       "<style scoped>\n",
       "    .dataframe tbody tr th:only-of-type {\n",
       "        vertical-align: middle;\n",
       "    }\n",
       "\n",
       "    .dataframe tbody tr th {\n",
       "        vertical-align: top;\n",
       "    }\n",
       "\n",
       "    .dataframe thead th {\n",
       "        text-align: right;\n",
       "    }\n",
       "</style>\n",
       "<table border=\"1\" class=\"dataframe\">\n",
       "  <thead>\n",
       "    <tr style=\"text-align: right;\">\n",
       "      <th></th>\n",
       "      <th>CreditScore</th>\n",
       "      <th>Age</th>\n",
       "      <th>Tenure</th>\n",
       "      <th>Balance</th>\n",
       "      <th>NumOfProducts</th>\n",
       "      <th>HasCrCard</th>\n",
       "      <th>IsActiveMember</th>\n",
       "      <th>EstimatedSalary</th>\n",
       "      <th>Exited</th>\n",
       "      <th>Geography_Germany</th>\n",
       "      <th>Geography_Spain</th>\n",
       "      <th>Gender_Male</th>\n",
       "    </tr>\n",
       "  </thead>\n",
       "  <tbody>\n",
       "    <tr>\n",
       "      <th>0</th>\n",
       "      <td>619</td>\n",
       "      <td>42</td>\n",
       "      <td>2</td>\n",
       "      <td>0.00</td>\n",
       "      <td>1</td>\n",
       "      <td>1</td>\n",
       "      <td>1</td>\n",
       "      <td>101348.88</td>\n",
       "      <td>1</td>\n",
       "      <td>0</td>\n",
       "      <td>0</td>\n",
       "      <td>0</td>\n",
       "    </tr>\n",
       "    <tr>\n",
       "      <th>1</th>\n",
       "      <td>608</td>\n",
       "      <td>41</td>\n",
       "      <td>1</td>\n",
       "      <td>83807.86</td>\n",
       "      <td>1</td>\n",
       "      <td>0</td>\n",
       "      <td>1</td>\n",
       "      <td>112542.58</td>\n",
       "      <td>0</td>\n",
       "      <td>0</td>\n",
       "      <td>1</td>\n",
       "      <td>0</td>\n",
       "    </tr>\n",
       "  </tbody>\n",
       "</table>\n",
       "</div>"
      ],
      "text/plain": [
       "   CreditScore  Age  Tenure   Balance  NumOfProducts  HasCrCard  \\\n",
       "0          619   42       2      0.00              1          1   \n",
       "1          608   41       1  83807.86              1          0   \n",
       "\n",
       "   IsActiveMember  EstimatedSalary  Exited  Geography_Germany  \\\n",
       "0               1        101348.88       1                  0   \n",
       "1               1        112542.58       0                  0   \n",
       "\n",
       "   Geography_Spain  Gender_Male  \n",
       "0                0            0  \n",
       "1                1            0  "
      ]
     },
     "execution_count": 31,
     "metadata": {},
     "output_type": "execute_result"
    }
   ],
   "source": [
    "df.head(2)"
   ]
  },
  {
   "cell_type": "code",
   "execution_count": 32,
   "metadata": {
    "id": "Dfxmw9L69JR7",
    "outputId": "62692bf1-5b23-47e1-e96c-89223b97eab2"
   },
   "outputs": [
    {
     "data": {
      "text/plain": [
       "0"
      ]
     },
     "execution_count": 32,
     "metadata": {},
     "output_type": "execute_result"
    }
   ],
   "source": [
    "df.isnull().sum().sum()"
   ]
  },
  {
   "cell_type": "code",
   "execution_count": 33,
   "metadata": {
    "id": "GX_5QF_79JR7"
   },
   "outputs": [
    {
     "data": {
      "text/plain": [
       "Index(['CreditScore', 'Age', 'Tenure', 'Balance', 'NumOfProducts', 'HasCrCard',\n",
       "       'IsActiveMember', 'EstimatedSalary', 'Exited', 'Geography_Germany',\n",
       "       'Geography_Spain', 'Gender_Male'],\n",
       "      dtype='object')"
      ]
     },
     "execution_count": 33,
     "metadata": {},
     "output_type": "execute_result"
    }
   ],
   "source": [
    "df.columns"
   ]
  },
  {
   "cell_type": "code",
   "execution_count": 34,
   "metadata": {
    "id": "ygsSHfI29JR8",
    "outputId": "c90f2e03-d935-4655-d86a-2dccb49e0cc6"
   },
   "outputs": [
    {
     "data": {
      "text/plain": [
       "0    7677\n",
       "1    1950\n",
       "Name: Exited, dtype: int64"
      ]
     },
     "execution_count": 34,
     "metadata": {},
     "output_type": "execute_result"
    }
   ],
   "source": [
    "df['Exited'].value_counts() # Target column is not balanced"
   ]
  },
  {
   "cell_type": "code",
   "execution_count": 35,
   "metadata": {
    "id": "KdZ0RbSB9JR9"
   },
   "outputs": [],
   "source": [
    "# correlation is effective only for continous numeric variable\n"
   ]
  },
  {
   "cell_type": "code",
   "execution_count": 36,
   "metadata": {
    "id": "sESwwstc9JR-",
    "outputId": "8885b57b-ccfd-4733-fc76-d6c59da334af"
   },
   "outputs": [],
   "source": [
    "cor = df[['CreditScore','Age','Tenure','Balance','EstimatedSalary']].corr()\n",
    "#cor"
   ]
  },
  {
   "cell_type": "code",
   "execution_count": 37,
   "metadata": {
    "id": "ceUU2D_39JR-",
    "outputId": "d96870d0-3bc0-4292-990b-4175a067b6e2"
   },
   "outputs": [
    {
     "data": {
      "image/png": "[encoded data removed]",
      "text/plain": [
       "<Figure size 640x480 with 2 Axes>"
      ]
     },
     "metadata": {},
     "output_type": "display_data"
    }
   ],
   "source": [
    "sns.heatmap(cor, annot = True,vmin=-1,vmax=1)\n",
    "plt.show()"
   ]
  },
  {
   "cell_type": "code",
   "execution_count": null,
   "metadata": {},
   "outputs": [],
   "source": []
  },
  {
   "cell_type": "code",
   "execution_count": 38,
   "metadata": {
    "id": "IfB71KK89JR-"
   },
   "outputs": [],
   "source": [
    "## All the numeric input columns are independent of each other"
   ]
  },
  {
   "cell_type": "code",
   "execution_count": 39,
   "metadata": {
    "id": "LTLzhLqi9JR_"
   },
   "outputs": [],
   "source": [
    "x=df.drop(['Exited'],axis=1)\n",
    "y=df['Exited']"
   ]
  },
  {
   "cell_type": "code",
   "execution_count": 40,
   "metadata": {
    "id": "5uIo-rwV9JR_"
   },
   "outputs": [],
   "source": [
    "from sklearn.model_selection import train_test_split\n",
    "# Splitting the data into train and test\n",
    "xtrain, xtest, ytrain, ytest = train_test_split(x,y, test_size=0.2,\n",
    "                                                random_state=10)"
   ]
  },
  {
   "cell_type": "markdown",
   "metadata": {
    "id": "mc9B2qgv9JSB"
   },
   "source": [
    "### Model Building "
   ]
  },
  {
   "cell_type": "code",
   "execution_count": 41,
   "metadata": {},
   "outputs": [],
   "source": [
    "# create an empty dataframe to store the scores for various algorithms\n",
    "perf_score = pd.DataFrame(columns=[\"Model\", \"Accuracy\",\"Recall\",\n",
    "                                   \"Precision\",\"F1 Score\"] )"
   ]
  },
  {
   "cell_type": "code",
   "execution_count": 42,
   "metadata": {},
   "outputs": [],
   "source": [
    "def per_measures(model,test,pred):\n",
    "    accuracy    = accuracy_score(test,pred)\n",
    "    f1score     = f1_score(test,pred)\n",
    "    recall      = recall_score(test,pred)\n",
    "    precision   = precision_score(test,pred)\n",
    "    # reliability = cohen_kappa_score(test,pred)\n",
    "    return (accuracy,recall,precision,f1score,)"
   ]
  },
  {
   "cell_type": "code",
   "execution_count": 43,
   "metadata": {},
   "outputs": [],
   "source": [
    "def update_performance (name, model,test,pred):\n",
    "    # assign 'comp_perf' as global variable\n",
    "    global perf_score\n",
    "\n",
    "\n",
    "    # append the results to the dataframe 'score_card'\n",
    "    # 'ignore_index = True' do not consider the index labels\n",
    "    perf_score = perf_score.append({'Model'       : name,\n",
    "                                    'Accuracy'    : per_measures(model,test,pred)[0],\n",
    "                                    'Recall'      : per_measures(model,test,pred)[1],\n",
    "                                    'Precision'   : per_measures(model,test,pred)[2],\n",
    "                                    'F1 Score'    : per_measures(model,test,pred)[3]\n",
    "                                    # 'AIC'         : per_measures(model,ytest,ypred)[4],\n",
    "                                    # 'Reliability' : per_measures(model,ytest,ypred)[5]\n",
    "\n",
    "                                     },\n",
    "                                   ignore_index = True)"
   ]
  },
  {
   "cell_type": "code",
   "execution_count": null,
   "metadata": {},
   "outputs": [],
   "source": []
  },
  {
   "cell_type": "code",
   "execution_count": 44,
   "metadata": {
    "id": "P2EAB5ns9JSB",
    "outputId": "35a166a9-4b80-4282-d02a-60aef4e3c216"
   },
   "outputs": [
    {
     "data": {
      "text/html": [
       "<style>#sk-container-id-1 {color: black;background-color: white;}#sk-container-id-1 pre{padding: 0;}#sk-container-id-1 div.sk-toggleable {background-color: white;}#sk-container-id-1 label.sk-toggleable__label {cursor: pointer;display: block;width: 100%;margin-bottom: 0;padding: 0.3em;box-sizing: border-box;text-align: center;}#sk-container-id-1 label.sk-toggleable__label-arrow:before {content: \"▸\";float: left;margin-right: 0.25em;color: #696969;}#sk-container-id-1 label.sk-toggleable__label-arrow:hover:before {color: black;}#sk-container-id-1 div.sk-estimator:hover label.sk-toggleable__label-arrow:before {color: black;}#sk-container-id-1 div.sk-toggleable__content {max-height: 0;max-width: 0;overflow: hidden;text-align: left;background-color: #f0f8ff;}#sk-container-id-1 div.sk-toggleable__content pre {margin: 0.2em;color: black;border-radius: 0.25em;background-color: #f0f8ff;}#sk-container-id-1 input.sk-toggleable__control:checked~div.sk-toggleable__content {max-height: 200px;max-width: 100%;overflow: auto;}#sk-container-id-1 input.sk-toggleable__control:checked~label.sk-toggleable__label-arrow:before {content: \"▾\";}#sk-container-id-1 div.sk-estimator input.sk-toggleable__control:checked~label.sk-toggleable__label {background-color: #d4ebff;}#sk-container-id-1 div.sk-label input.sk-toggleable__control:checked~label.sk-toggleable__label {background-color: #d4ebff;}#sk-container-id-1 input.sk-hidden--visually {border: 0;clip: rect(1px 1px 1px 1px);clip: rect(1px, 1px, 1px, 1px);height: 1px;margin: -1px;overflow: hidden;padding: 0;position: absolute;width: 1px;}#sk-container-id-1 div.sk-estimator {font-family: monospace;background-color: #f0f8ff;border: 1px dotted black;border-radius: 0.25em;box-sizing: border-box;margin-bottom: 0.5em;}#sk-container-id-1 div.sk-estimator:hover {background-color: #d4ebff;}#sk-container-id-1 div.sk-parallel-item::after {content: \"\";width: 100%;border-bottom: 1px solid gray;flex-grow: 1;}#sk-container-id-1 div.sk-label:hover label.sk-toggleable__label {background-color: #d4ebff;}#sk-container-id-1 div.sk-serial::before {content: \"\";position: absolute;border-left: 1px solid gray;box-sizing: border-box;top: 0;bottom: 0;left: 50%;z-index: 0;}#sk-container-id-1 div.sk-serial {display: flex;flex-direction: column;align-items: center;background-color: white;padding-right: 0.2em;padding-left: 0.2em;position: relative;}#sk-container-id-1 div.sk-item {position: relative;z-index: 1;}#sk-container-id-1 div.sk-parallel {display: flex;align-items: stretch;justify-content: center;background-color: white;position: relative;}#sk-container-id-1 div.sk-item::before, #sk-container-id-1 div.sk-parallel-item::before {content: \"\";position: absolute;border-left: 1px solid gray;box-sizing: border-box;top: 0;bottom: 0;left: 50%;z-index: -1;}#sk-container-id-1 div.sk-parallel-item {display: flex;flex-direction: column;z-index: 1;position: relative;background-color: white;}#sk-container-id-1 div.sk-parallel-item:first-child::after {align-self: flex-end;width: 50%;}#sk-container-id-1 div.sk-parallel-item:last-child::after {align-self: flex-start;width: 50%;}#sk-container-id-1 div.sk-parallel-item:only-child::after {width: 0;}#sk-container-id-1 div.sk-dashed-wrapped {border: 1px dashed gray;margin: 0 0.4em 0.5em 0.4em;box-sizing: border-box;padding-bottom: 0.4em;background-color: white;}#sk-container-id-1 div.sk-label label {font-family: monospace;font-weight: bold;display: inline-block;line-height: 1.2em;}#sk-container-id-1 div.sk-label-container {text-align: center;}#sk-container-id-1 div.sk-container {/* jupyter's `normalize.less` sets `[hidden] { display: none; }` but bootstrap.min.css set `[hidden] { display: none !important; }` so we also need the `!important` here to be able to override the default hidden behavior on the sphinx rendered scikit-learn.org. See: https://github.com/scikit-learn/scikit-learn/issues/21755 */display: inline-block !important;position: relative;}#sk-container-id-1 div.sk-text-repr-fallback {display: none;}</style><div id=\"sk-container-id-1\" class=\"sk-top-container\"><div class=\"sk-text-repr-fallback\"><pre>LogisticRegression()</pre><b>In a Jupyter environment, please rerun this cell to show the HTML representation or trust the notebook. <br />On GitHub, the HTML representation is unable to render, please try loading this page with nbviewer.org.</b></div><div class=\"sk-container\" hidden><div class=\"sk-item\"><div class=\"sk-estimator sk-toggleable\"><input class=\"sk-toggleable__control sk-hidden--visually\" id=\"sk-estimator-id-1\" type=\"checkbox\" checked><label for=\"sk-estimator-id-1\" class=\"sk-toggleable__label sk-toggleable__label-arrow\">LogisticRegression</label><div class=\"sk-toggleable__content\"><pre>LogisticRegression()</pre></div></div></div></div></div>"
      ],
      "text/plain": [
       "LogisticRegression()"
      ]
     },
     "execution_count": 44,
     "metadata": {},
     "output_type": "execute_result"
    }
   ],
   "source": [
    "from sklearn.linear_model import LogisticRegression\n",
    "lr = LogisticRegression()\n",
    "lr.fit(xtrain, ytrain)"
   ]
  },
  {
   "cell_type": "code",
   "execution_count": 45,
   "metadata": {
    "id": "nZjW3OHA9JSB",
    "outputId": "f39366c5-3e4e-46ae-863d-172924cffe4e"
   },
   "outputs": [],
   "source": [
    "coef_logit=lr.coef_\n",
    "#coef_logit"
   ]
  },
  {
   "cell_type": "code",
   "execution_count": 46,
   "metadata": {
    "id": "bzOedQsZ9JSC",
    "outputId": "1e56841a-05bc-4b45-db25-71b6509be48f"
   },
   "outputs": [],
   "source": [
    "coef_odd=np.exp(coef_logit)\n",
    "#coef_odd"
   ]
  },
  {
   "cell_type": "code",
   "execution_count": 47,
   "metadata": {
    "id": "D_LmgohP9JSC",
    "outputId": "7eeb3838-b8bb-4db7-bddd-8d8840baff1b"
   },
   "outputs": [],
   "source": [
    "#list(xtrain.columns)"
   ]
  },
  {
   "cell_type": "code",
   "execution_count": 48,
   "metadata": {
    "id": "9yg8MKWo9JSC",
    "outputId": "d8ebbe0e-f29c-4ede-f809-0e015af87058"
   },
   "outputs": [
    {
     "data": {
      "text/html": [
       "<div>\n",
       "<style scoped>\n",
       "    .dataframe tbody tr th:only-of-type {\n",
       "        vertical-align: middle;\n",
       "    }\n",
       "\n",
       "    .dataframe tbody tr th {\n",
       "        vertical-align: top;\n",
       "    }\n",
       "\n",
       "    .dataframe thead th {\n",
       "        text-align: right;\n",
       "    }\n",
       "</style>\n",
       "<table border=\"1\" class=\"dataframe\">\n",
       "  <thead>\n",
       "    <tr style=\"text-align: right;\">\n",
       "      <th></th>\n",
       "      <th>Feature</th>\n",
       "      <th>Logit</th>\n",
       "      <th>odd_ratio</th>\n",
       "    </tr>\n",
       "  </thead>\n",
       "  <tbody>\n",
       "    <tr>\n",
       "      <th>0</th>\n",
       "      <td>CreditScore</td>\n",
       "      <td>-2.552706e-03</td>\n",
       "      <td>0.997451</td>\n",
       "    </tr>\n",
       "    <tr>\n",
       "      <th>1</th>\n",
       "      <td>Age</td>\n",
       "      <td>-6.210542e-05</td>\n",
       "      <td>0.999938</td>\n",
       "    </tr>\n",
       "    <tr>\n",
       "      <th>2</th>\n",
       "      <td>Tenure</td>\n",
       "      <td>-2.028925e-05</td>\n",
       "      <td>0.999980</td>\n",
       "    </tr>\n",
       "    <tr>\n",
       "      <th>3</th>\n",
       "      <td>Balance</td>\n",
       "      <td>4.438019e-06</td>\n",
       "      <td>1.000004</td>\n",
       "    </tr>\n",
       "    <tr>\n",
       "      <th>4</th>\n",
       "      <td>NumOfProducts</td>\n",
       "      <td>-6.675935e-06</td>\n",
       "      <td>0.999993</td>\n",
       "    </tr>\n",
       "    <tr>\n",
       "      <th>5</th>\n",
       "      <td>HasCrCard</td>\n",
       "      <td>-2.869733e-06</td>\n",
       "      <td>0.999997</td>\n",
       "    </tr>\n",
       "    <tr>\n",
       "      <th>6</th>\n",
       "      <td>IsActiveMember</td>\n",
       "      <td>-3.789175e-06</td>\n",
       "      <td>0.999996</td>\n",
       "    </tr>\n",
       "    <tr>\n",
       "      <th>7</th>\n",
       "      <td>EstimatedSalary</td>\n",
       "      <td>-4.254925e-07</td>\n",
       "      <td>1.000000</td>\n",
       "    </tr>\n",
       "    <tr>\n",
       "      <th>8</th>\n",
       "      <td>Geography_Germany</td>\n",
       "      <td>1.264225e-06</td>\n",
       "      <td>1.000001</td>\n",
       "    </tr>\n",
       "    <tr>\n",
       "      <th>9</th>\n",
       "      <td>Geography_Spain</td>\n",
       "      <td>-1.731350e-06</td>\n",
       "      <td>0.999998</td>\n",
       "    </tr>\n",
       "    <tr>\n",
       "      <th>10</th>\n",
       "      <td>Gender_Male</td>\n",
       "      <td>-3.457511e-06</td>\n",
       "      <td>0.999997</td>\n",
       "    </tr>\n",
       "  </tbody>\n",
       "</table>\n",
       "</div>"
      ],
      "text/plain": [
       "              Feature         Logit  odd_ratio\n",
       "0         CreditScore -2.552706e-03   0.997451\n",
       "1                 Age -6.210542e-05   0.999938\n",
       "2              Tenure -2.028925e-05   0.999980\n",
       "3             Balance  4.438019e-06   1.000004\n",
       "4       NumOfProducts -6.675935e-06   0.999993\n",
       "5           HasCrCard -2.869733e-06   0.999997\n",
       "6      IsActiveMember -3.789175e-06   0.999996\n",
       "7     EstimatedSalary -4.254925e-07   1.000000\n",
       "8   Geography_Germany  1.264225e-06   1.000001\n",
       "9     Geography_Spain -1.731350e-06   0.999998\n",
       "10        Gender_Male -3.457511e-06   0.999997"
      ]
     },
     "execution_count": 48,
     "metadata": {},
     "output_type": "execute_result"
    }
   ],
   "source": [
    "res=pd.DataFrame({'Feature':xtrain.columns,\n",
    "                  'Logit':coef_logit[0],\n",
    "                  'odd_ratio':coef_odd[0]})\n",
    "res"
   ]
  },
  {
   "cell_type": "markdown",
   "metadata": {
    "id": "22jQamuM9JSD"
   },
   "source": [
    "One unit increase in Credit score, will decrease the Odds of getting exited by 0.99 times\n",
    "\n",
    "One unit increase in Age, will increase the Odds of getting exited by 1.05 times"
   ]
  },
  {
   "cell_type": "code",
   "execution_count": 49,
   "metadata": {
    "id": "joO1S2C09JSD",
    "outputId": "c0c1af05-8aa3-47b0-876c-3ab85f216c39",
    "scrolled": true
   },
   "outputs": [
    {
     "name": "stdout",
     "output_type": "stream",
     "text": [
      "              precision    recall  f1-score   support\n",
      "\n",
      "           0       0.81      1.00      0.89      1554\n",
      "           1       0.00      0.00      0.00       372\n",
      "\n",
      "    accuracy                           0.81      1926\n",
      "   macro avg       0.40      0.50      0.45      1926\n",
      "weighted avg       0.65      0.81      0.72      1926\n",
      "\n",
      "[[1554    0]\n",
      " [ 372    0]]\n"
     ]
    }
   ],
   "source": [
    "ypred_lr=lr.predict(xtest)\n",
    "print(classification_report(ytest,ypred_lr))\n",
    "print(confusion_matrix(ytest,ypred_lr))"
   ]
  },
  {
   "cell_type": "code",
   "execution_count": 50,
   "metadata": {},
   "outputs": [
    {
     "data": {
      "text/html": [
       "<div>\n",
       "<style scoped>\n",
       "    .dataframe tbody tr th:only-of-type {\n",
       "        vertical-align: middle;\n",
       "    }\n",
       "\n",
       "    .dataframe tbody tr th {\n",
       "        vertical-align: top;\n",
       "    }\n",
       "\n",
       "    .dataframe thead th {\n",
       "        text-align: right;\n",
       "    }\n",
       "</style>\n",
       "<table border=\"1\" class=\"dataframe\">\n",
       "  <thead>\n",
       "    <tr style=\"text-align: right;\">\n",
       "      <th></th>\n",
       "      <th>Model</th>\n",
       "      <th>Accuracy</th>\n",
       "      <th>Recall</th>\n",
       "      <th>Precision</th>\n",
       "      <th>F1 Score</th>\n",
       "    </tr>\n",
       "  </thead>\n",
       "  <tbody>\n",
       "    <tr>\n",
       "      <th>0</th>\n",
       "      <td>LogisticReg-Base</td>\n",
       "      <td>0.806854</td>\n",
       "      <td>0.0</td>\n",
       "      <td>0.0</td>\n",
       "      <td>0.0</td>\n",
       "    </tr>\n",
       "  </tbody>\n",
       "</table>\n",
       "</div>"
      ],
      "text/plain": [
       "              Model  Accuracy  Recall  Precision  F1 Score\n",
       "0  LogisticReg-Base  0.806854     0.0        0.0       0.0"
      ]
     },
     "execution_count": 50,
     "metadata": {},
     "output_type": "execute_result"
    }
   ],
   "source": [
    "update_performance(name = 'LogisticReg-Base', \n",
    "                   model = lr,\n",
    "                   test=ytest,\n",
    "                   pred=ypred_lr)\n",
    "# print the dataframe\n",
    "perf_score"
   ]
  },
  {
   "cell_type": "code",
   "execution_count": null,
   "metadata": {
    "id": "dyCwUO5I9JSF"
   },
   "outputs": [],
   "source": []
  },
  {
   "cell_type": "code",
   "execution_count": 51,
   "metadata": {},
   "outputs": [],
   "source": [
    "knn = KNeighborsClassifier()\n",
    "knn.fit(xtrain,ytrain)\n",
    "ypred_knn = knn.predict(xtest)"
   ]
  },
  {
   "cell_type": "code",
   "execution_count": 52,
   "metadata": {},
   "outputs": [
    {
     "data": {
      "text/html": [
       "<div>\n",
       "<style scoped>\n",
       "    .dataframe tbody tr th:only-of-type {\n",
       "        vertical-align: middle;\n",
       "    }\n",
       "\n",
       "    .dataframe tbody tr th {\n",
       "        vertical-align: top;\n",
       "    }\n",
       "\n",
       "    .dataframe thead th {\n",
       "        text-align: right;\n",
       "    }\n",
       "</style>\n",
       "<table border=\"1\" class=\"dataframe\">\n",
       "  <thead>\n",
       "    <tr style=\"text-align: right;\">\n",
       "      <th></th>\n",
       "      <th>Model</th>\n",
       "      <th>Accuracy</th>\n",
       "      <th>Recall</th>\n",
       "      <th>Precision</th>\n",
       "      <th>F1 Score</th>\n",
       "    </tr>\n",
       "  </thead>\n",
       "  <tbody>\n",
       "    <tr>\n",
       "      <th>0</th>\n",
       "      <td>LogisticReg-Base</td>\n",
       "      <td>0.806854</td>\n",
       "      <td>0.00000</td>\n",
       "      <td>0.000000</td>\n",
       "      <td>0.000000</td>\n",
       "    </tr>\n",
       "    <tr>\n",
       "      <th>1</th>\n",
       "      <td>KNN-Base</td>\n",
       "      <td>0.762201</td>\n",
       "      <td>0.08871</td>\n",
       "      <td>0.217105</td>\n",
       "      <td>0.125954</td>\n",
       "    </tr>\n",
       "  </tbody>\n",
       "</table>\n",
       "</div>"
      ],
      "text/plain": [
       "              Model  Accuracy   Recall  Precision  F1 Score\n",
       "0  LogisticReg-Base  0.806854  0.00000   0.000000  0.000000\n",
       "1          KNN-Base  0.762201  0.08871   0.217105  0.125954"
      ]
     },
     "execution_count": 52,
     "metadata": {},
     "output_type": "execute_result"
    }
   ],
   "source": [
    "update_performance(name = 'KNN-Base', model = knn,test=ytest,pred=ypred_knn)\n",
    "perf_score"
   ]
  },
  {
   "cell_type": "markdown",
   "metadata": {},
   "source": [
    "### Decision Tree"
   ]
  },
  {
   "cell_type": "code",
   "execution_count": 53,
   "metadata": {
    "colab": {
     "base_uri": "https://localhost:8080/"
    },
    "id": "1nUE2hDFJiWd",
    "outputId": "dce3007c-734a-43b4-b077-c20b22f05e9b"
   },
   "outputs": [],
   "source": [
    "dt = DecisionTreeClassifier(random_state=10)\n",
    "dt.fit(xtrain,ytrain)\n",
    "ypred_dt = dt.predict(xtest)"
   ]
  },
  {
   "cell_type": "code",
   "execution_count": 54,
   "metadata": {},
   "outputs": [
    {
     "data": {
      "text/html": [
       "<div>\n",
       "<style scoped>\n",
       "    .dataframe tbody tr th:only-of-type {\n",
       "        vertical-align: middle;\n",
       "    }\n",
       "\n",
       "    .dataframe tbody tr th {\n",
       "        vertical-align: top;\n",
       "    }\n",
       "\n",
       "    .dataframe thead th {\n",
       "        text-align: right;\n",
       "    }\n",
       "</style>\n",
       "<table border=\"1\" class=\"dataframe\">\n",
       "  <thead>\n",
       "    <tr style=\"text-align: right;\">\n",
       "      <th></th>\n",
       "      <th>Model</th>\n",
       "      <th>Accuracy</th>\n",
       "      <th>Recall</th>\n",
       "      <th>Precision</th>\n",
       "      <th>F1 Score</th>\n",
       "    </tr>\n",
       "  </thead>\n",
       "  <tbody>\n",
       "    <tr>\n",
       "      <th>0</th>\n",
       "      <td>LogisticReg-Base</td>\n",
       "      <td>0.806854</td>\n",
       "      <td>0.000000</td>\n",
       "      <td>0.000000</td>\n",
       "      <td>0.000000</td>\n",
       "    </tr>\n",
       "    <tr>\n",
       "      <th>1</th>\n",
       "      <td>KNN-Base</td>\n",
       "      <td>0.762201</td>\n",
       "      <td>0.088710</td>\n",
       "      <td>0.217105</td>\n",
       "      <td>0.125954</td>\n",
       "    </tr>\n",
       "    <tr>\n",
       "      <th>2</th>\n",
       "      <td>Decision Tree-Gini</td>\n",
       "      <td>0.792835</td>\n",
       "      <td>0.483871</td>\n",
       "      <td>0.465116</td>\n",
       "      <td>0.474308</td>\n",
       "    </tr>\n",
       "  </tbody>\n",
       "</table>\n",
       "</div>"
      ],
      "text/plain": [
       "                Model  Accuracy    Recall  Precision  F1 Score\n",
       "0    LogisticReg-Base  0.806854  0.000000   0.000000  0.000000\n",
       "1            KNN-Base  0.762201  0.088710   0.217105  0.125954\n",
       "2  Decision Tree-Gini  0.792835  0.483871   0.465116  0.474308"
      ]
     },
     "execution_count": 54,
     "metadata": {},
     "output_type": "execute_result"
    }
   ],
   "source": [
    "update_performance(name = 'Decision Tree-Gini', model = dt,test=ytest,\n",
    "                   pred=ypred_dt)\n",
    "perf_score"
   ]
  },
  {
   "cell_type": "code",
   "execution_count": 55,
   "metadata": {
    "colab": {
     "base_uri": "https://localhost:8080/"
    },
    "id": "1lkR7kB9Z16r",
    "outputId": "2f2a3d84-c4d1-4e48-e98a-fa3f3964e297"
   },
   "outputs": [
    {
     "name": "stdout",
     "output_type": "stream",
     "text": [
      "0.7902388369678089\n",
      "[[1343  211]\n",
      " [ 193  179]]\n",
      "              precision    recall  f1-score   support\n",
      "\n",
      "           0       0.87      0.86      0.87      1554\n",
      "           1       0.46      0.48      0.47       372\n",
      "\n",
      "    accuracy                           0.79      1926\n",
      "   macro avg       0.67      0.67      0.67      1926\n",
      "weighted avg       0.79      0.79      0.79      1926\n",
      "\n"
     ]
    }
   ],
   "source": [
    "dt_e = DecisionTreeClassifier(criterion='entropy',random_state=10)\n",
    "dt_e.fit(xtrain,ytrain)\n",
    "ypred_dt_e = dt_e.predict(xtest)\n",
    "\n",
    "print(accuracy_score(ytest,ypred_dt_e))\n",
    "print(confusion_matrix(ytest,ypred_dt_e))\n",
    "print(classification_report(ytest,ypred_dt_e))"
   ]
  },
  {
   "cell_type": "markdown",
   "metadata": {
    "id": "5zNdaYBlUENn"
   },
   "source": [
    "**Summarize the Decision Tree using Criterion as Entropy**"
   ]
  },
  {
   "cell_type": "code",
   "execution_count": 56,
   "metadata": {
    "colab": {
     "base_uri": "https://localhost:8080/",
     "height": 206
    },
    "id": "tGT4DuAcB1wU",
    "outputId": "87debd53-c1f1-4d4e-b0da-139fa20dbecb"
   },
   "outputs": [
    {
     "data": {
      "text/html": [
       "<div>\n",
       "<style scoped>\n",
       "    .dataframe tbody tr th:only-of-type {\n",
       "        vertical-align: middle;\n",
       "    }\n",
       "\n",
       "    .dataframe tbody tr th {\n",
       "        vertical-align: top;\n",
       "    }\n",
       "\n",
       "    .dataframe thead th {\n",
       "        text-align: right;\n",
       "    }\n",
       "</style>\n",
       "<table border=\"1\" class=\"dataframe\">\n",
       "  <thead>\n",
       "    <tr style=\"text-align: right;\">\n",
       "      <th></th>\n",
       "      <th>Model</th>\n",
       "      <th>Accuracy</th>\n",
       "      <th>Recall</th>\n",
       "      <th>Precision</th>\n",
       "      <th>F1 Score</th>\n",
       "    </tr>\n",
       "  </thead>\n",
       "  <tbody>\n",
       "    <tr>\n",
       "      <th>0</th>\n",
       "      <td>LogisticReg-Base</td>\n",
       "      <td>0.806854</td>\n",
       "      <td>0.000000</td>\n",
       "      <td>0.000000</td>\n",
       "      <td>0.000000</td>\n",
       "    </tr>\n",
       "    <tr>\n",
       "      <th>1</th>\n",
       "      <td>KNN-Base</td>\n",
       "      <td>0.762201</td>\n",
       "      <td>0.088710</td>\n",
       "      <td>0.217105</td>\n",
       "      <td>0.125954</td>\n",
       "    </tr>\n",
       "    <tr>\n",
       "      <th>2</th>\n",
       "      <td>Decision Tree-Gini</td>\n",
       "      <td>0.792835</td>\n",
       "      <td>0.483871</td>\n",
       "      <td>0.465116</td>\n",
       "      <td>0.474308</td>\n",
       "    </tr>\n",
       "    <tr>\n",
       "      <th>3</th>\n",
       "      <td>Decision Tree-Entropy</td>\n",
       "      <td>0.790239</td>\n",
       "      <td>0.481183</td>\n",
       "      <td>0.458974</td>\n",
       "      <td>0.469816</td>\n",
       "    </tr>\n",
       "  </tbody>\n",
       "</table>\n",
       "</div>"
      ],
      "text/plain": [
       "                   Model  Accuracy    Recall  Precision  F1 Score\n",
       "0       LogisticReg-Base  0.806854  0.000000   0.000000  0.000000\n",
       "1               KNN-Base  0.762201  0.088710   0.217105  0.125954\n",
       "2     Decision Tree-Gini  0.792835  0.483871   0.465116  0.474308\n",
       "3  Decision Tree-Entropy  0.790239  0.481183   0.458974  0.469816"
      ]
     },
     "execution_count": 56,
     "metadata": {},
     "output_type": "execute_result"
    }
   ],
   "source": [
    "update_performance(name = 'Decision Tree-Entropy', model = dt_e,test=ytest,pred=ypred_dt_e)\n",
    "perf_score"
   ]
  },
  {
   "cell_type": "code",
   "execution_count": 57,
   "metadata": {},
   "outputs": [],
   "source": [
    "feature_imp = pd.DataFrame()\n",
    "feature_imp['Feature']=xtrain.columns\n",
    "feature_imp['Importance']=dt.feature_importances_"
   ]
  },
  {
   "cell_type": "code",
   "execution_count": 58,
   "metadata": {},
   "outputs": [],
   "source": [
    "#feature_imp"
   ]
  },
  {
   "cell_type": "code",
   "execution_count": 59,
   "metadata": {},
   "outputs": [
    {
     "data": {
      "image/png": "[encoded data removed]",
      "text/plain": [
       "<Figure size 640x480 with 1 Axes>"
      ]
     },
     "metadata": {},
     "output_type": "display_data"
    }
   ],
   "source": [
    "feature_imp = feature_imp.sort_values('Importance',ascending=False)\n",
    "sns.barplot(x='Importance', y='Feature', data=feature_imp)\n",
    "plt.show()"
   ]
  },
  {
   "cell_type": "code",
   "execution_count": 60,
   "metadata": {
    "id": "ibCg-CzkzETh"
   },
   "outputs": [],
   "source": [
    "from sklearn.model_selection import GridSearchCV"
   ]
  },
  {
   "cell_type": "code",
   "execution_count": 61,
   "metadata": {
    "id": "uV9iadJWxhCA"
   },
   "outputs": [],
   "source": [
    "tuned_paramaters = [{'criterion': ['entropy','gini'],\n",
    "                     'max_depth': [3,5,6,7]}]"
   ]
  },
  {
   "cell_type": "code",
   "execution_count": 62,
   "metadata": {
    "id": "cXXT5m7lyGWl"
   },
   "outputs": [],
   "source": [
    "dt = DecisionTreeClassifier(random_state = 10)\n",
    "tree_grid = GridSearchCV(estimator = dt, \n",
    "                         param_grid = tuned_paramaters,\n",
    "                         cv = 5)"
   ]
  },
  {
   "cell_type": "code",
   "execution_count": 63,
   "metadata": {
    "colab": {
     "base_uri": "https://localhost:8080/"
    },
    "id": "irR8B6RbzKG4",
    "outputId": "edf671fb-0332-44bd-8d09-b55a51a4535f"
   },
   "outputs": [
    {
     "data": {
      "text/plain": [
       "{'criterion': 'gini', 'max_depth': 7}"
      ]
     },
     "execution_count": 63,
     "metadata": {},
     "output_type": "execute_result"
    }
   ],
   "source": [
    "tree_grid_model = tree_grid.fit(xtrain, ytrain)\n",
    "tree_grid_model.best_params_"
   ]
  },
  {
   "cell_type": "code",
   "execution_count": 64,
   "metadata": {
    "colab": {
     "base_uri": "https://localhost:8080/"
    },
    "id": "tkwgbSYcyhIp",
    "outputId": "3ee7ecce-f77d-4ef7-877e-45b43befd3f9"
   },
   "outputs": [],
   "source": [
    "ypred_dt_tp = tree_grid_model.predict(xtest)"
   ]
  },
  {
   "cell_type": "code",
   "execution_count": null,
   "metadata": {},
   "outputs": [],
   "source": []
  },
  {
   "cell_type": "code",
   "execution_count": 65,
   "metadata": {
    "colab": {
     "base_uri": "https://localhost:8080/"
    },
    "id": "5O48kkix0bbp",
    "outputId": "f669d83d-47c3-4dec-8c23-a5fdb9ea938d"
   },
   "outputs": [
    {
     "name": "stdout",
     "output_type": "stream",
     "text": [
      "Train Accuracy 0.8780677834047527\n",
      "Test Accuracy 0.8546209761163032\n"
     ]
    }
   ],
   "source": [
    "print('Train Accuracy',tree_grid_model.score(xtrain,ytrain))\n",
    "print('Test Accuracy',tree_grid_model.score(xtest,ytest))"
   ]
  },
  {
   "cell_type": "markdown",
   "metadata": {
    "id": "EtJronAm0u-p"
   },
   "source": [
    "**Lets Look at Other Hyparameters**"
   ]
  },
  {
   "cell_type": "code",
   "execution_count": 66,
   "metadata": {
    "id": "92YPLZ_QC7ov"
   },
   "outputs": [],
   "source": [
    "tuned_paramaters = [{'criterion': ['entropy','gini'],\n",
    "                     'max_depth': [5,10],  # 5,6,7,\n",
    "                     'max_features': [\"sqrt\", \"log2\"], # it can be either square root of the feature or log of number of features\n",
    "                    # 'min_samples_split': [2,5,8], # 1-3% of the total records\n",
    "                    # 'min_samples_leaf': [1,5,9], # 1-3% of the min_sample_split\n",
    "                     'max_leaf_nodes': [5,8]}]"
   ]
  },
  {
   "cell_type": "code",
   "execution_count": 67,
   "metadata": {
    "id": "T_zDFu9-DFDX"
   },
   "outputs": [],
   "source": [
    "dt = DecisionTreeClassifier(random_state = 10)\n",
    "\n",
    "tree_grid = GridSearchCV(estimator = dt, # The estimator can be is logistic, Linear reg, decision tree\n",
    "                         param_grid = tuned_paramaters,\n",
    "                         cv = 5)"
   ]
  },
  {
   "cell_type": "code",
   "execution_count": 68,
   "metadata": {
    "colab": {
     "base_uri": "https://localhost:8080/"
    },
    "id": "ISMbuerLDIZA",
    "outputId": "13573824-1362-4a08-d628-17709a9f7726"
   },
   "outputs": [
    {
     "name": "stdout",
     "output_type": "stream",
     "text": [
      "Best parameters for decision tree classifier:  {'criterion': 'gini', 'max_depth': 5, 'max_features': 'sqrt', 'max_leaf_nodes': 8} \n",
      "\n"
     ]
    }
   ],
   "source": [
    "tree_grid_model = tree_grid.fit(xtrain, ytrain)\n",
    "print('Best parameters for decision tree classifier: ', tree_grid_model.best_params_, '\\n')"
   ]
  },
  {
   "cell_type": "code",
   "execution_count": 69,
   "metadata": {
    "id": "1NiMMlk0eFq2"
   },
   "outputs": [],
   "source": [
    "dt_grid_model = DecisionTreeClassifier(criterion = 'gini',\n",
    "                                  max_depth = 5,\n",
    "                                  max_features = 'sqrt',\n",
    "                                  max_leaf_nodes = 5,\n",
    "                                  min_samples_leaf = 9,\n",
    "                                  min_samples_split = 2,\n",
    "                                  random_state = 10)"
   ]
  },
  {
   "cell_type": "code",
   "execution_count": 70,
   "metadata": {
    "id": "aky2wKA1eFPO"
   },
   "outputs": [],
   "source": [
    "dt_grid_model= dt_grid_model.fit(xtrain,ytrain)"
   ]
  },
  {
   "cell_type": "code",
   "execution_count": 71,
   "metadata": {
    "colab": {
     "base_uri": "https://localhost:8080/"
    },
    "id": "d-zbmlCsDLIP",
    "outputId": "d4b54c1d-3cfa-4862-fcec-0a10d8536254"
   },
   "outputs": [
    {
     "name": "stdout",
     "output_type": "stream",
     "text": [
      "0.8317757009345794\n",
      "[[1446  108]\n",
      " [ 216  156]]\n",
      "              precision    recall  f1-score   support\n",
      "\n",
      "           0       0.87      0.93      0.90      1554\n",
      "           1       0.59      0.42      0.49       372\n",
      "\n",
      "    accuracy                           0.83      1926\n",
      "   macro avg       0.73      0.67      0.69      1926\n",
      "weighted avg       0.82      0.83      0.82      1926\n",
      "\n"
     ]
    }
   ],
   "source": [
    "ypred_dt_tp = dt_grid_model.predict(xtest)\n",
    "\n",
    "print(accuracy_score(ytest,ypred_dt_tp))\n",
    "print(confusion_matrix(ytest,ypred_dt_tp))\n",
    "print(classification_report(ytest,ypred_dt_tp))"
   ]
  },
  {
   "cell_type": "code",
   "execution_count": 72,
   "metadata": {
    "colab": {
     "base_uri": "https://localhost:8080/"
    },
    "id": "egl7V47XDNxH",
    "outputId": "cd18cc8a-cd8a-4b41-e8a5-14957d6cae28"
   },
   "outputs": [
    {
     "name": "stdout",
     "output_type": "stream",
     "text": [
      "Train Accuracy 0.8400207765225295\n",
      "Test Accuracy 0.8483904465212876\n"
     ]
    }
   ],
   "source": [
    "print('Train Accuracy',tree_grid_model.score(xtrain,ytrain))\n",
    "print('Test Accuracy',tree_grid_model.score(xtest,ytest))"
   ]
  },
  {
   "cell_type": "markdown",
   "metadata": {
    "id": "eJ5gRHA4Dat4"
   },
   "source": [
    "1.The model performance is 83%.\n"
   ]
  },
  {
   "cell_type": "code",
   "execution_count": 73,
   "metadata": {
    "id": "SaJoVoCBFCXJ"
   },
   "outputs": [],
   "source": [
    "ypred_dt_dp_train = tree_grid_model.predict(xtrain)"
   ]
  },
  {
   "cell_type": "code",
   "execution_count": 74,
   "metadata": {
    "colab": {
     "base_uri": "https://localhost:8080/"
    },
    "id": "8JdHTEAHFv-n",
    "outputId": "a628b03a-6846-41b8-f872-8d91ca591718"
   },
   "outputs": [
    {
     "name": "stdout",
     "output_type": "stream",
     "text": [
      "              precision    recall  f1-score   support\n",
      "\n",
      "           0       0.86      0.96      0.90      6123\n",
      "           1       0.70      0.38      0.50      1578\n",
      "\n",
      "    accuracy                           0.84      7701\n",
      "   macro avg       0.78      0.67      0.70      7701\n",
      "weighted avg       0.83      0.84      0.82      7701\n",
      "\n"
     ]
    }
   ],
   "source": [
    "print(classification_report(ytrain,ypred_dt_dp_train))"
   ]
  },
  {
   "cell_type": "code",
   "execution_count": 75,
   "metadata": {
    "colab": {
     "base_uri": "https://localhost:8080/"
    },
    "id": "fMj6gtLYD8w3",
    "outputId": "bc3eeafa-292e-40c7-e65b-f3e9e1227186"
   },
   "outputs": [
    {
     "name": "stdout",
     "output_type": "stream",
     "text": [
      "[[1446  108]\n",
      " [ 216  156]]\n"
     ]
    }
   ],
   "source": [
    "# evaluate using confusion matrix.\n",
    "\n",
    "print(confusion_matrix(ytest,ypred_dt_tp))"
   ]
  },
  {
   "cell_type": "code",
   "execution_count": 76,
   "metadata": {
    "colab": {
     "base_uri": "https://localhost:8080/"
    },
    "id": "MGTMR_KbEgL3",
    "outputId": "98ff3601-61b7-4a93-a2c0-83d40e59459b"
   },
   "outputs": [
    {
     "name": "stdout",
     "output_type": "stream",
     "text": [
      "              precision    recall  f1-score   support\n",
      "\n",
      "           0       0.87      0.93      0.90      1554\n",
      "           1       0.59      0.42      0.49       372\n",
      "\n",
      "    accuracy                           0.83      1926\n",
      "   macro avg       0.73      0.67      0.69      1926\n",
      "weighted avg       0.82      0.83      0.82      1926\n",
      "\n"
     ]
    }
   ],
   "source": [
    "print(classification_report(ytest,ypred_dt_tp))"
   ]
  },
  {
   "cell_type": "code",
   "execution_count": 77,
   "metadata": {
    "colab": {
     "base_uri": "https://localhost:8080/"
    },
    "id": "6pXcpoo9EPhH",
    "outputId": "9b46967c-ff39-4cfb-f4e4-282ae4ec2a76"
   },
   "outputs": [
    {
     "name": "stdout",
     "output_type": "stream",
     "text": [
      "              precision    recall  f1-score   support\n",
      "\n",
      "           0       0.87      0.93      0.90      1554\n",
      "           1       0.59      0.42      0.49       372\n",
      "\n",
      "    accuracy                           0.83      1926\n",
      "   macro avg       0.73      0.67      0.69      1926\n",
      "weighted avg       0.82      0.83      0.82      1926\n",
      "\n"
     ]
    }
   ],
   "source": [
    "print(classification_report(ytest,ypred_dt_tp))"
   ]
  },
  {
   "cell_type": "markdown",
   "metadata": {
    "id": "Dc_KNsNZPRTA"
   },
   "source": [
    "### Lets Summarize the Findings"
   ]
  },
  {
   "cell_type": "code",
   "execution_count": 78,
   "metadata": {
    "colab": {
     "base_uri": "https://localhost:8080/",
     "height": 237
    },
    "id": "eKeDJ2leC-Z5",
    "outputId": "058593d5-9c6a-4f8d-e350-a85a0f87edad"
   },
   "outputs": [
    {
     "data": {
      "text/html": [
       "<div>\n",
       "<style scoped>\n",
       "    .dataframe tbody tr th:only-of-type {\n",
       "        vertical-align: middle;\n",
       "    }\n",
       "\n",
       "    .dataframe tbody tr th {\n",
       "        vertical-align: top;\n",
       "    }\n",
       "\n",
       "    .dataframe thead th {\n",
       "        text-align: right;\n",
       "    }\n",
       "</style>\n",
       "<table border=\"1\" class=\"dataframe\">\n",
       "  <thead>\n",
       "    <tr style=\"text-align: right;\">\n",
       "      <th></th>\n",
       "      <th>Model</th>\n",
       "      <th>Accuracy</th>\n",
       "      <th>Recall</th>\n",
       "      <th>Precision</th>\n",
       "      <th>F1 Score</th>\n",
       "    </tr>\n",
       "  </thead>\n",
       "  <tbody>\n",
       "    <tr>\n",
       "      <th>0</th>\n",
       "      <td>LogisticReg-Base</td>\n",
       "      <td>0.806854</td>\n",
       "      <td>0.000000</td>\n",
       "      <td>0.000000</td>\n",
       "      <td>0.000000</td>\n",
       "    </tr>\n",
       "    <tr>\n",
       "      <th>1</th>\n",
       "      <td>KNN-Base</td>\n",
       "      <td>0.762201</td>\n",
       "      <td>0.088710</td>\n",
       "      <td>0.217105</td>\n",
       "      <td>0.125954</td>\n",
       "    </tr>\n",
       "    <tr>\n",
       "      <th>2</th>\n",
       "      <td>Decision Tree-Gini</td>\n",
       "      <td>0.792835</td>\n",
       "      <td>0.483871</td>\n",
       "      <td>0.465116</td>\n",
       "      <td>0.474308</td>\n",
       "    </tr>\n",
       "    <tr>\n",
       "      <th>3</th>\n",
       "      <td>Decision Tree-Entropy</td>\n",
       "      <td>0.790239</td>\n",
       "      <td>0.481183</td>\n",
       "      <td>0.458974</td>\n",
       "      <td>0.469816</td>\n",
       "    </tr>\n",
       "    <tr>\n",
       "      <th>4</th>\n",
       "      <td>Decision Tree-Tuned</td>\n",
       "      <td>0.831776</td>\n",
       "      <td>0.419355</td>\n",
       "      <td>0.590909</td>\n",
       "      <td>0.490566</td>\n",
       "    </tr>\n",
       "  </tbody>\n",
       "</table>\n",
       "</div>"
      ],
      "text/plain": [
       "                   Model  Accuracy    Recall  Precision  F1 Score\n",
       "0       LogisticReg-Base  0.806854  0.000000   0.000000  0.000000\n",
       "1               KNN-Base  0.762201  0.088710   0.217105  0.125954\n",
       "2     Decision Tree-Gini  0.792835  0.483871   0.465116  0.474308\n",
       "3  Decision Tree-Entropy  0.790239  0.481183   0.458974  0.469816\n",
       "4    Decision Tree-Tuned  0.831776  0.419355   0.590909  0.490566"
      ]
     },
     "execution_count": 78,
     "metadata": {},
     "output_type": "execute_result"
    }
   ],
   "source": [
    "update_performance(name = 'Decision Tree-Tuned', \n",
    "                   model = dt_grid_model,\n",
    "                   test=ytest,\n",
    "                   pred=ypred_dt_tp)\n",
    "perf_score"
   ]
  },
  {
   "cell_type": "code",
   "execution_count": null,
   "metadata": {
    "id": "rM0_kHNQdufZ"
   },
   "outputs": [],
   "source": []
  },
  {
   "cell_type": "markdown",
   "metadata": {
    "id": "rrwwXkCvmeDk"
   },
   "source": [
    "**Gaussian Naive Bayes**"
   ]
  },
  {
   "cell_type": "code",
   "execution_count": 79,
   "metadata": {
    "id": "qj7T-5fytJd4"
   },
   "outputs": [],
   "source": [
    "from sklearn.naive_bayes import GaussianNB, BernoulliNB, MultinomialNB"
   ]
  },
  {
   "cell_type": "code",
   "execution_count": 80,
   "metadata": {
    "colab": {
     "base_uri": "https://localhost:8080/"
    },
    "id": "XROaSFX2mjMY",
    "outputId": "a4e9f7b7-b88f-4ab7-e7d3-8ca401687ede"
   },
   "outputs": [],
   "source": [
    "gnb = GaussianNB()\n",
    "gnb.fit(xtrain,ytrain)\n",
    "ypred_gnb = gnb.predict(xtest)"
   ]
  },
  {
   "cell_type": "code",
   "execution_count": 81,
   "metadata": {
    "id": "xqa7WE3TZaz5"
   },
   "outputs": [
    {
     "data": {
      "text/html": [
       "<div>\n",
       "<style scoped>\n",
       "    .dataframe tbody tr th:only-of-type {\n",
       "        vertical-align: middle;\n",
       "    }\n",
       "\n",
       "    .dataframe tbody tr th {\n",
       "        vertical-align: top;\n",
       "    }\n",
       "\n",
       "    .dataframe thead th {\n",
       "        text-align: right;\n",
       "    }\n",
       "</style>\n",
       "<table border=\"1\" class=\"dataframe\">\n",
       "  <thead>\n",
       "    <tr style=\"text-align: right;\">\n",
       "      <th></th>\n",
       "      <th>Model</th>\n",
       "      <th>Accuracy</th>\n",
       "      <th>Recall</th>\n",
       "      <th>Precision</th>\n",
       "      <th>F1 Score</th>\n",
       "    </tr>\n",
       "  </thead>\n",
       "  <tbody>\n",
       "    <tr>\n",
       "      <th>0</th>\n",
       "      <td>LogisticReg-Base</td>\n",
       "      <td>0.806854</td>\n",
       "      <td>0.000000</td>\n",
       "      <td>0.000000</td>\n",
       "      <td>0.000000</td>\n",
       "    </tr>\n",
       "    <tr>\n",
       "      <th>1</th>\n",
       "      <td>KNN-Base</td>\n",
       "      <td>0.762201</td>\n",
       "      <td>0.088710</td>\n",
       "      <td>0.217105</td>\n",
       "      <td>0.125954</td>\n",
       "    </tr>\n",
       "    <tr>\n",
       "      <th>2</th>\n",
       "      <td>Decision Tree-Gini</td>\n",
       "      <td>0.792835</td>\n",
       "      <td>0.483871</td>\n",
       "      <td>0.465116</td>\n",
       "      <td>0.474308</td>\n",
       "    </tr>\n",
       "    <tr>\n",
       "      <th>3</th>\n",
       "      <td>Decision Tree-Entropy</td>\n",
       "      <td>0.790239</td>\n",
       "      <td>0.481183</td>\n",
       "      <td>0.458974</td>\n",
       "      <td>0.469816</td>\n",
       "    </tr>\n",
       "    <tr>\n",
       "      <th>4</th>\n",
       "      <td>Decision Tree-Tuned</td>\n",
       "      <td>0.831776</td>\n",
       "      <td>0.419355</td>\n",
       "      <td>0.590909</td>\n",
       "      <td>0.490566</td>\n",
       "    </tr>\n",
       "    <tr>\n",
       "      <th>5</th>\n",
       "      <td>Gaussian NB</td>\n",
       "      <td>0.812046</td>\n",
       "      <td>0.209677</td>\n",
       "      <td>0.534247</td>\n",
       "      <td>0.301158</td>\n",
       "    </tr>\n",
       "  </tbody>\n",
       "</table>\n",
       "</div>"
      ],
      "text/plain": [
       "                   Model  Accuracy    Recall  Precision  F1 Score\n",
       "0       LogisticReg-Base  0.806854  0.000000   0.000000  0.000000\n",
       "1               KNN-Base  0.762201  0.088710   0.217105  0.125954\n",
       "2     Decision Tree-Gini  0.792835  0.483871   0.465116  0.474308\n",
       "3  Decision Tree-Entropy  0.790239  0.481183   0.458974  0.469816\n",
       "4    Decision Tree-Tuned  0.831776  0.419355   0.590909  0.490566\n",
       "5            Gaussian NB  0.812046  0.209677   0.534247  0.301158"
      ]
     },
     "execution_count": 81,
     "metadata": {},
     "output_type": "execute_result"
    }
   ],
   "source": [
    "update_performance(name = 'Gaussian NB', \n",
    "                   model = gnb,\n",
    "                   test=ytest,\n",
    "                   pred=ypred_gnb)\n",
    "perf_score"
   ]
  },
  {
   "cell_type": "markdown",
   "metadata": {
    "id": "Oktzyy8SwXzG"
   },
   "source": [
    "**Bernoulli NB**"
   ]
  },
  {
   "cell_type": "code",
   "execution_count": 82,
   "metadata": {
    "id": "HURvSqhOurVh"
   },
   "outputs": [
    {
     "name": "stdout",
     "output_type": "stream",
     "text": [
      "0.7975077881619937\n",
      "[[1487   67]\n",
      " [ 323   49]]\n",
      "              precision    recall  f1-score   support\n",
      "\n",
      "           0       0.82      0.96      0.88      1554\n",
      "           1       0.42      0.13      0.20       372\n",
      "\n",
      "    accuracy                           0.80      1926\n",
      "   macro avg       0.62      0.54      0.54      1926\n",
      "weighted avg       0.74      0.80      0.75      1926\n",
      "\n"
     ]
    }
   ],
   "source": [
    "bnb = BernoulliNB()\n",
    "bnb.fit(xtrain,ytrain)\n",
    "\n",
    "ypred_bnb = bnb.predict(xtest)\n",
    "\n",
    "print(accuracy_score(ytest,ypred_bnb))\n",
    "print(confusion_matrix(ytest,ypred_bnb))\n",
    "print(classification_report(ytest,ypred_bnb))"
   ]
  },
  {
   "cell_type": "code",
   "execution_count": 83,
   "metadata": {},
   "outputs": [
    {
     "data": {
      "text/html": [
       "<div>\n",
       "<style scoped>\n",
       "    .dataframe tbody tr th:only-of-type {\n",
       "        vertical-align: middle;\n",
       "    }\n",
       "\n",
       "    .dataframe tbody tr th {\n",
       "        vertical-align: top;\n",
       "    }\n",
       "\n",
       "    .dataframe thead th {\n",
       "        text-align: right;\n",
       "    }\n",
       "</style>\n",
       "<table border=\"1\" class=\"dataframe\">\n",
       "  <thead>\n",
       "    <tr style=\"text-align: right;\">\n",
       "      <th></th>\n",
       "      <th>Model</th>\n",
       "      <th>Accuracy</th>\n",
       "      <th>Recall</th>\n",
       "      <th>Precision</th>\n",
       "      <th>F1 Score</th>\n",
       "    </tr>\n",
       "  </thead>\n",
       "  <tbody>\n",
       "    <tr>\n",
       "      <th>0</th>\n",
       "      <td>LogisticReg-Base</td>\n",
       "      <td>0.806854</td>\n",
       "      <td>0.000000</td>\n",
       "      <td>0.000000</td>\n",
       "      <td>0.000000</td>\n",
       "    </tr>\n",
       "    <tr>\n",
       "      <th>1</th>\n",
       "      <td>KNN-Base</td>\n",
       "      <td>0.762201</td>\n",
       "      <td>0.088710</td>\n",
       "      <td>0.217105</td>\n",
       "      <td>0.125954</td>\n",
       "    </tr>\n",
       "    <tr>\n",
       "      <th>2</th>\n",
       "      <td>Decision Tree-Gini</td>\n",
       "      <td>0.792835</td>\n",
       "      <td>0.483871</td>\n",
       "      <td>0.465116</td>\n",
       "      <td>0.474308</td>\n",
       "    </tr>\n",
       "    <tr>\n",
       "      <th>3</th>\n",
       "      <td>Decision Tree-Entropy</td>\n",
       "      <td>0.790239</td>\n",
       "      <td>0.481183</td>\n",
       "      <td>0.458974</td>\n",
       "      <td>0.469816</td>\n",
       "    </tr>\n",
       "    <tr>\n",
       "      <th>4</th>\n",
       "      <td>Decision Tree-Tuned</td>\n",
       "      <td>0.831776</td>\n",
       "      <td>0.419355</td>\n",
       "      <td>0.590909</td>\n",
       "      <td>0.490566</td>\n",
       "    </tr>\n",
       "    <tr>\n",
       "      <th>5</th>\n",
       "      <td>Gaussian NB</td>\n",
       "      <td>0.812046</td>\n",
       "      <td>0.209677</td>\n",
       "      <td>0.534247</td>\n",
       "      <td>0.301158</td>\n",
       "    </tr>\n",
       "    <tr>\n",
       "      <th>6</th>\n",
       "      <td>Bernoulli NB</td>\n",
       "      <td>0.797508</td>\n",
       "      <td>0.131720</td>\n",
       "      <td>0.422414</td>\n",
       "      <td>0.200820</td>\n",
       "    </tr>\n",
       "  </tbody>\n",
       "</table>\n",
       "</div>"
      ],
      "text/plain": [
       "                   Model  Accuracy    Recall  Precision  F1 Score\n",
       "0       LogisticReg-Base  0.806854  0.000000   0.000000  0.000000\n",
       "1               KNN-Base  0.762201  0.088710   0.217105  0.125954\n",
       "2     Decision Tree-Gini  0.792835  0.483871   0.465116  0.474308\n",
       "3  Decision Tree-Entropy  0.790239  0.481183   0.458974  0.469816\n",
       "4    Decision Tree-Tuned  0.831776  0.419355   0.590909  0.490566\n",
       "5            Gaussian NB  0.812046  0.209677   0.534247  0.301158\n",
       "6           Bernoulli NB  0.797508  0.131720   0.422414  0.200820"
      ]
     },
     "execution_count": 83,
     "metadata": {},
     "output_type": "execute_result"
    }
   ],
   "source": [
    "update_performance(name = 'Bernoulli NB', model = bnb,test=ytest,pred=ypred_bnb)\n",
    "\n",
    "# print the dataframe\n",
    "perf_score"
   ]
  },
  {
   "cell_type": "markdown",
   "metadata": {
    "id": "K_xEsPfbx4tP"
   },
   "source": [
    "**Multinomial Naive Bayes**"
   ]
  },
  {
   "cell_type": "code",
   "execution_count": 84,
   "metadata": {
    "id": "b4F4lSm8xLMQ"
   },
   "outputs": [
    {
     "name": "stdout",
     "output_type": "stream",
     "text": [
      "0.5311526479750779\n",
      "[[827 727]\n",
      " [176 196]]\n",
      "              precision    recall  f1-score   support\n",
      "\n",
      "           0       0.82      0.53      0.65      1554\n",
      "           1       0.21      0.53      0.30       372\n",
      "\n",
      "    accuracy                           0.53      1926\n",
      "   macro avg       0.52      0.53      0.47      1926\n",
      "weighted avg       0.71      0.53      0.58      1926\n",
      "\n"
     ]
    }
   ],
   "source": [
    "mnb = MultinomialNB()\n",
    "\n",
    "mnb.fit(xtrain,ytrain)\n",
    "\n",
    "\n",
    "ypred_mnb = mnb.predict(xtest)\n",
    "\n",
    "print(accuracy_score(ytest,ypred_mnb))\n",
    "print(confusion_matrix(ytest,ypred_mnb))\n",
    "print(classification_report(ytest,ypred_mnb))"
   ]
  },
  {
   "cell_type": "code",
   "execution_count": 85,
   "metadata": {},
   "outputs": [
    {
     "data": {
      "text/html": [
       "<div>\n",
       "<style scoped>\n",
       "    .dataframe tbody tr th:only-of-type {\n",
       "        vertical-align: middle;\n",
       "    }\n",
       "\n",
       "    .dataframe tbody tr th {\n",
       "        vertical-align: top;\n",
       "    }\n",
       "\n",
       "    .dataframe thead th {\n",
       "        text-align: right;\n",
       "    }\n",
       "</style>\n",
       "<table border=\"1\" class=\"dataframe\">\n",
       "  <thead>\n",
       "    <tr style=\"text-align: right;\">\n",
       "      <th></th>\n",
       "      <th>Model</th>\n",
       "      <th>Accuracy</th>\n",
       "      <th>Recall</th>\n",
       "      <th>Precision</th>\n",
       "      <th>F1 Score</th>\n",
       "    </tr>\n",
       "  </thead>\n",
       "  <tbody>\n",
       "    <tr>\n",
       "      <th>0</th>\n",
       "      <td>LogisticReg-Base</td>\n",
       "      <td>0.806854</td>\n",
       "      <td>0.000000</td>\n",
       "      <td>0.000000</td>\n",
       "      <td>0.000000</td>\n",
       "    </tr>\n",
       "    <tr>\n",
       "      <th>1</th>\n",
       "      <td>KNN-Base</td>\n",
       "      <td>0.762201</td>\n",
       "      <td>0.088710</td>\n",
       "      <td>0.217105</td>\n",
       "      <td>0.125954</td>\n",
       "    </tr>\n",
       "    <tr>\n",
       "      <th>2</th>\n",
       "      <td>Decision Tree-Gini</td>\n",
       "      <td>0.792835</td>\n",
       "      <td>0.483871</td>\n",
       "      <td>0.465116</td>\n",
       "      <td>0.474308</td>\n",
       "    </tr>\n",
       "    <tr>\n",
       "      <th>3</th>\n",
       "      <td>Decision Tree-Entropy</td>\n",
       "      <td>0.790239</td>\n",
       "      <td>0.481183</td>\n",
       "      <td>0.458974</td>\n",
       "      <td>0.469816</td>\n",
       "    </tr>\n",
       "    <tr>\n",
       "      <th>4</th>\n",
       "      <td>Decision Tree-Tuned</td>\n",
       "      <td>0.831776</td>\n",
       "      <td>0.419355</td>\n",
       "      <td>0.590909</td>\n",
       "      <td>0.490566</td>\n",
       "    </tr>\n",
       "    <tr>\n",
       "      <th>5</th>\n",
       "      <td>Gaussian NB</td>\n",
       "      <td>0.812046</td>\n",
       "      <td>0.209677</td>\n",
       "      <td>0.534247</td>\n",
       "      <td>0.301158</td>\n",
       "    </tr>\n",
       "    <tr>\n",
       "      <th>6</th>\n",
       "      <td>Bernoulli NB</td>\n",
       "      <td>0.797508</td>\n",
       "      <td>0.131720</td>\n",
       "      <td>0.422414</td>\n",
       "      <td>0.200820</td>\n",
       "    </tr>\n",
       "    <tr>\n",
       "      <th>7</th>\n",
       "      <td>Multinomial NB</td>\n",
       "      <td>0.531153</td>\n",
       "      <td>0.526882</td>\n",
       "      <td>0.212351</td>\n",
       "      <td>0.302703</td>\n",
       "    </tr>\n",
       "  </tbody>\n",
       "</table>\n",
       "</div>"
      ],
      "text/plain": [
       "                   Model  Accuracy    Recall  Precision  F1 Score\n",
       "0       LogisticReg-Base  0.806854  0.000000   0.000000  0.000000\n",
       "1               KNN-Base  0.762201  0.088710   0.217105  0.125954\n",
       "2     Decision Tree-Gini  0.792835  0.483871   0.465116  0.474308\n",
       "3  Decision Tree-Entropy  0.790239  0.481183   0.458974  0.469816\n",
       "4    Decision Tree-Tuned  0.831776  0.419355   0.590909  0.490566\n",
       "5            Gaussian NB  0.812046  0.209677   0.534247  0.301158\n",
       "6           Bernoulli NB  0.797508  0.131720   0.422414  0.200820\n",
       "7         Multinomial NB  0.531153  0.526882   0.212351  0.302703"
      ]
     },
     "execution_count": 85,
     "metadata": {},
     "output_type": "execute_result"
    }
   ],
   "source": [
    "update_performance(name = 'Multinomial NB', model = mnb,test=ytest,pred=ypred_mnb)\n",
    "\n",
    "# print the dataframe\n",
    "perf_score"
   ]
  },
  {
   "cell_type": "markdown",
   "metadata": {
    "id": "xT91df-8mvbv"
   },
   "source": [
    "### Random Forest"
   ]
  },
  {
   "cell_type": "code",
   "execution_count": 86,
   "metadata": {
    "id": "FaM6n2J40dCe"
   },
   "outputs": [],
   "source": [
    "from sklearn.ensemble import RandomForestClassifier"
   ]
  },
  {
   "cell_type": "code",
   "execution_count": 87,
   "metadata": {
    "colab": {
     "base_uri": "https://localhost:8080/",
     "height": 74
    },
    "id": "8WZ0c6PT0ygO",
    "outputId": "4236cf33-7e91-4af6-f668-97e2feb613a7"
   },
   "outputs": [],
   "source": [
    "rf = RandomForestClassifier(random_state=10)\n",
    "rf.fit(xtrain,ytrain)\n",
    "ypred_rf = rf.predict(xtest)"
   ]
  },
  {
   "cell_type": "code",
   "execution_count": 88,
   "metadata": {
    "colab": {
     "base_uri": "https://localhost:8080/"
    },
    "id": "IHWBHyLPm0BY",
    "outputId": "206587d9-a943-42a6-9935-66f85e6a47d5"
   },
   "outputs": [],
   "source": [
    "# print(accuracy_score(ytest,ypred_rf))\n",
    "# print(confusion_matrix(ytest,ypred_rf))\n",
    "# print(classification_report(ytest,ypred_rf))\n"
   ]
  },
  {
   "cell_type": "markdown",
   "metadata": {
    "id": "hEiAzsEypdgA"
   },
   "source": [
    "1. There are 2 ways at looking whether the model is overfit or underfit models\n",
    "2. By using classification report or using score function"
   ]
  },
  {
   "cell_type": "code",
   "execution_count": 89,
   "metadata": {
    "colab": {
     "base_uri": "https://localhost:8080/"
    },
    "id": "1isRyzf2pg-P",
    "outputId": "061e2f9d-e473-4b05-932e-08c4034045af"
   },
   "outputs": [
    {
     "name": "stdout",
     "output_type": "stream",
     "text": [
      "Train Accuracy 0.9998701467341904\n",
      "Test Accuracy 0.8629283489096573\n"
     ]
    }
   ],
   "source": [
    "print('Train Accuracy',rf.score(xtrain,ytrain))\n",
    "print('Test Accuracy',rf.score(xtest,ytest))"
   ]
  },
  {
   "cell_type": "markdown",
   "metadata": {
    "id": "lul5VM8wpjvK"
   },
   "source": [
    "1. The model is still overfitting even when we have 100 trees."
   ]
  },
  {
   "cell_type": "code",
   "execution_count": 90,
   "metadata": {
    "colab": {
     "base_uri": "https://localhost:8080/",
     "height": 425
    },
    "id": "W_HZ-d-VM5Dl",
    "outputId": "35297208-ccb0-4899-b906-3e71d400101a"
   },
   "outputs": [
    {
     "data": {
      "text/html": [
       "<div>\n",
       "<style scoped>\n",
       "    .dataframe tbody tr th:only-of-type {\n",
       "        vertical-align: middle;\n",
       "    }\n",
       "\n",
       "    .dataframe tbody tr th {\n",
       "        vertical-align: top;\n",
       "    }\n",
       "\n",
       "    .dataframe thead th {\n",
       "        text-align: right;\n",
       "    }\n",
       "</style>\n",
       "<table border=\"1\" class=\"dataframe\">\n",
       "  <thead>\n",
       "    <tr style=\"text-align: right;\">\n",
       "      <th></th>\n",
       "      <th>Model</th>\n",
       "      <th>Accuracy</th>\n",
       "      <th>Recall</th>\n",
       "      <th>Precision</th>\n",
       "      <th>F1 Score</th>\n",
       "    </tr>\n",
       "  </thead>\n",
       "  <tbody>\n",
       "    <tr>\n",
       "      <th>0</th>\n",
       "      <td>LogisticReg-Base</td>\n",
       "      <td>0.806854</td>\n",
       "      <td>0.000000</td>\n",
       "      <td>0.000000</td>\n",
       "      <td>0.000000</td>\n",
       "    </tr>\n",
       "    <tr>\n",
       "      <th>1</th>\n",
       "      <td>KNN-Base</td>\n",
       "      <td>0.762201</td>\n",
       "      <td>0.088710</td>\n",
       "      <td>0.217105</td>\n",
       "      <td>0.125954</td>\n",
       "    </tr>\n",
       "    <tr>\n",
       "      <th>2</th>\n",
       "      <td>Decision Tree-Gini</td>\n",
       "      <td>0.792835</td>\n",
       "      <td>0.483871</td>\n",
       "      <td>0.465116</td>\n",
       "      <td>0.474308</td>\n",
       "    </tr>\n",
       "    <tr>\n",
       "      <th>3</th>\n",
       "      <td>Decision Tree-Entropy</td>\n",
       "      <td>0.790239</td>\n",
       "      <td>0.481183</td>\n",
       "      <td>0.458974</td>\n",
       "      <td>0.469816</td>\n",
       "    </tr>\n",
       "    <tr>\n",
       "      <th>4</th>\n",
       "      <td>Decision Tree-Tuned</td>\n",
       "      <td>0.831776</td>\n",
       "      <td>0.419355</td>\n",
       "      <td>0.590909</td>\n",
       "      <td>0.490566</td>\n",
       "    </tr>\n",
       "    <tr>\n",
       "      <th>5</th>\n",
       "      <td>Gaussian NB</td>\n",
       "      <td>0.812046</td>\n",
       "      <td>0.209677</td>\n",
       "      <td>0.534247</td>\n",
       "      <td>0.301158</td>\n",
       "    </tr>\n",
       "    <tr>\n",
       "      <th>6</th>\n",
       "      <td>Bernoulli NB</td>\n",
       "      <td>0.797508</td>\n",
       "      <td>0.131720</td>\n",
       "      <td>0.422414</td>\n",
       "      <td>0.200820</td>\n",
       "    </tr>\n",
       "    <tr>\n",
       "      <th>7</th>\n",
       "      <td>Multinomial NB</td>\n",
       "      <td>0.531153</td>\n",
       "      <td>0.526882</td>\n",
       "      <td>0.212351</td>\n",
       "      <td>0.302703</td>\n",
       "    </tr>\n",
       "    <tr>\n",
       "      <th>8</th>\n",
       "      <td>Random Forest</td>\n",
       "      <td>0.862928</td>\n",
       "      <td>0.454301</td>\n",
       "      <td>0.734783</td>\n",
       "      <td>0.561462</td>\n",
       "    </tr>\n",
       "  </tbody>\n",
       "</table>\n",
       "</div>"
      ],
      "text/plain": [
       "                   Model  Accuracy    Recall  Precision  F1 Score\n",
       "0       LogisticReg-Base  0.806854  0.000000   0.000000  0.000000\n",
       "1               KNN-Base  0.762201  0.088710   0.217105  0.125954\n",
       "2     Decision Tree-Gini  0.792835  0.483871   0.465116  0.474308\n",
       "3  Decision Tree-Entropy  0.790239  0.481183   0.458974  0.469816\n",
       "4    Decision Tree-Tuned  0.831776  0.419355   0.590909  0.490566\n",
       "5            Gaussian NB  0.812046  0.209677   0.534247  0.301158\n",
       "6           Bernoulli NB  0.797508  0.131720   0.422414  0.200820\n",
       "7         Multinomial NB  0.531153  0.526882   0.212351  0.302703\n",
       "8          Random Forest  0.862928  0.454301   0.734783  0.561462"
      ]
     },
     "execution_count": 90,
     "metadata": {},
     "output_type": "execute_result"
    }
   ],
   "source": [
    "update_performance(name = 'Random Forest', \n",
    "                   model = rf,\n",
    "                   test=ytest,\n",
    "                   pred=ypred_rf)\n",
    "perf_score"
   ]
  },
  {
   "cell_type": "markdown",
   "metadata": {
    "id": "JYLCB1qm6mqN"
   },
   "source": [
    "**OOB SAMPLE -PERFORMANCE**"
   ]
  },
  {
   "cell_type": "code",
   "execution_count": 91,
   "metadata": {
    "colab": {
     "base_uri": "https://localhost:8080/"
    },
    "id": "lMYOmJbkqVSg",
    "outputId": "63dd279f-6faa-4a48-8078-05e1be2daba6"
   },
   "outputs": [
    {
     "name": "stdout",
     "output_type": "stream",
     "text": [
      "0.8629283489096573\n",
      "0.8567718478119725\n"
     ]
    }
   ],
   "source": [
    "rf = RandomForestClassifier(oob_score=True, random_state=10)\n",
    "\n",
    "rf.fit(xtrain,ytrain)\n",
    "\n",
    "ypred_rf = rf.predict(xtest)\n",
    "print(accuracy_score(ytest,ypred_rf))\n",
    "\n",
    "print(rf.oob_score_)\n"
   ]
  },
  {
   "cell_type": "markdown",
   "metadata": {
    "id": "DbfYTwwC6tG6"
   },
   "source": [
    "**Is there a scope for Improvement -Lets Fine Tune the performance of Random Forest**"
   ]
  },
  {
   "cell_type": "code",
   "execution_count": 92,
   "metadata": {
    "id": "Iv-5bBIrpnNq"
   },
   "outputs": [],
   "source": [
    "params =             [{'criterion': ['entropy', 'gini'],\n",
    "                     #'n_estimators': [100],\n",
    "                     'max_depth': [10, 15],\n",
    "                     #'max_features': ['sqrt', 'log2'],\n",
    "                    # 'min_samples_split': [2, 8],\n",
    "                     #'min_samples_leaf': [5, 9],\n",
    "                     'max_leaf_nodes': [8, 11]}]"
   ]
  },
  {
   "cell_type": "code",
   "execution_count": 93,
   "metadata": {
    "colab": {
     "base_uri": "https://localhost:8080/"
    },
    "id": "wq_FDVRXpp33",
    "outputId": "38286034-f162-4d7a-e778-f532dbb205cc"
   },
   "outputs": [
    {
     "data": {
      "text/plain": [
       "{'criterion': 'gini', 'max_depth': 10, 'max_leaf_nodes': 11}"
      ]
     },
     "execution_count": 93,
     "metadata": {},
     "output_type": "execute_result"
    }
   ],
   "source": [
    "rf =RandomForestClassifier(random_state=10)\n",
    "\n",
    "rf_cv = GridSearchCV(rf,params,cv=5,scoring='accuracy')\n",
    "\n",
    "rf_cv.fit(xtrain,ytrain)\n",
    "\n",
    "rf_cv.best_params_"
   ]
  },
  {
   "cell_type": "code",
   "execution_count": 94,
   "metadata": {
    "colab": {
     "base_uri": "https://localhost:8080/"
    },
    "id": "3XmETSigptCD",
    "outputId": "94450fd0-cce5-4d26-f6b3-a50c6c9971b6"
   },
   "outputs": [
    {
     "name": "stdout",
     "output_type": "stream",
     "text": [
      "0.839563862928349\n",
      "[[1535   19]\n",
      " [ 290   82]]\n",
      "              precision    recall  f1-score   support\n",
      "\n",
      "           0       0.84      0.99      0.91      1554\n",
      "           1       0.81      0.22      0.35       372\n",
      "\n",
      "    accuracy                           0.84      1926\n",
      "   macro avg       0.83      0.60      0.63      1926\n",
      "weighted avg       0.84      0.84      0.80      1926\n",
      "\n"
     ]
    }
   ],
   "source": [
    "\n",
    "rf_model = RandomForestClassifier(criterion ='entropy' ,\n",
    "                                  n_estimators =10 ,\n",
    "                                  max_depth = 10 ,\n",
    "                                  max_features = 'sqrt',\n",
    "                                  max_leaf_nodes =8 ,\n",
    "                                  min_samples_leaf =5 ,\n",
    "                                  min_samples_split = 2,\n",
    "                                  random_state = 10)\n",
    "\n",
    "\n",
    "rf_model.fit(xtrain,ytrain)\n",
    "\n",
    "ypred_rf_tp = rf_model.predict(xtest)\n",
    "\n",
    "print(accuracy_score(ytest,ypred_rf_tp))\n",
    "print(confusion_matrix(ytest,ypred_rf_tp))\n",
    "print(classification_report(ytest,ypred_rf_tp))"
   ]
  },
  {
   "cell_type": "markdown",
   "metadata": {
    "id": "ohXM0C4NBgLa"
   },
   "source": [
    "Summarize the performance"
   ]
  },
  {
   "cell_type": "code",
   "execution_count": 95,
   "metadata": {
    "colab": {
     "base_uri": "https://localhost:8080/",
     "height": 457
    },
    "id": "35x9Vl7_NpCl",
    "outputId": "8fb167dd-2cc0-4071-8f04-c906b80abad3"
   },
   "outputs": [
    {
     "data": {
      "text/html": [
       "<div>\n",
       "<style scoped>\n",
       "    .dataframe tbody tr th:only-of-type {\n",
       "        vertical-align: middle;\n",
       "    }\n",
       "\n",
       "    .dataframe tbody tr th {\n",
       "        vertical-align: top;\n",
       "    }\n",
       "\n",
       "    .dataframe thead th {\n",
       "        text-align: right;\n",
       "    }\n",
       "</style>\n",
       "<table border=\"1\" class=\"dataframe\">\n",
       "  <thead>\n",
       "    <tr style=\"text-align: right;\">\n",
       "      <th></th>\n",
       "      <th>Model</th>\n",
       "      <th>Accuracy</th>\n",
       "      <th>Recall</th>\n",
       "      <th>Precision</th>\n",
       "      <th>F1 Score</th>\n",
       "    </tr>\n",
       "  </thead>\n",
       "  <tbody>\n",
       "    <tr>\n",
       "      <th>0</th>\n",
       "      <td>LogisticReg-Base</td>\n",
       "      <td>0.806854</td>\n",
       "      <td>0.000000</td>\n",
       "      <td>0.000000</td>\n",
       "      <td>0.000000</td>\n",
       "    </tr>\n",
       "    <tr>\n",
       "      <th>1</th>\n",
       "      <td>KNN-Base</td>\n",
       "      <td>0.762201</td>\n",
       "      <td>0.088710</td>\n",
       "      <td>0.217105</td>\n",
       "      <td>0.125954</td>\n",
       "    </tr>\n",
       "    <tr>\n",
       "      <th>2</th>\n",
       "      <td>Decision Tree-Gini</td>\n",
       "      <td>0.792835</td>\n",
       "      <td>0.483871</td>\n",
       "      <td>0.465116</td>\n",
       "      <td>0.474308</td>\n",
       "    </tr>\n",
       "    <tr>\n",
       "      <th>3</th>\n",
       "      <td>Decision Tree-Entropy</td>\n",
       "      <td>0.790239</td>\n",
       "      <td>0.481183</td>\n",
       "      <td>0.458974</td>\n",
       "      <td>0.469816</td>\n",
       "    </tr>\n",
       "    <tr>\n",
       "      <th>4</th>\n",
       "      <td>Decision Tree-Tuned</td>\n",
       "      <td>0.831776</td>\n",
       "      <td>0.419355</td>\n",
       "      <td>0.590909</td>\n",
       "      <td>0.490566</td>\n",
       "    </tr>\n",
       "    <tr>\n",
       "      <th>5</th>\n",
       "      <td>Gaussian NB</td>\n",
       "      <td>0.812046</td>\n",
       "      <td>0.209677</td>\n",
       "      <td>0.534247</td>\n",
       "      <td>0.301158</td>\n",
       "    </tr>\n",
       "    <tr>\n",
       "      <th>6</th>\n",
       "      <td>Bernoulli NB</td>\n",
       "      <td>0.797508</td>\n",
       "      <td>0.131720</td>\n",
       "      <td>0.422414</td>\n",
       "      <td>0.200820</td>\n",
       "    </tr>\n",
       "    <tr>\n",
       "      <th>7</th>\n",
       "      <td>Multinomial NB</td>\n",
       "      <td>0.531153</td>\n",
       "      <td>0.526882</td>\n",
       "      <td>0.212351</td>\n",
       "      <td>0.302703</td>\n",
       "    </tr>\n",
       "    <tr>\n",
       "      <th>8</th>\n",
       "      <td>Random Forest</td>\n",
       "      <td>0.862928</td>\n",
       "      <td>0.454301</td>\n",
       "      <td>0.734783</td>\n",
       "      <td>0.561462</td>\n",
       "    </tr>\n",
       "    <tr>\n",
       "      <th>9</th>\n",
       "      <td>Random Forest-Tunned</td>\n",
       "      <td>0.839564</td>\n",
       "      <td>0.220430</td>\n",
       "      <td>0.811881</td>\n",
       "      <td>0.346723</td>\n",
       "    </tr>\n",
       "  </tbody>\n",
       "</table>\n",
       "</div>"
      ],
      "text/plain": [
       "                   Model  Accuracy    Recall  Precision  F1 Score\n",
       "0       LogisticReg-Base  0.806854  0.000000   0.000000  0.000000\n",
       "1               KNN-Base  0.762201  0.088710   0.217105  0.125954\n",
       "2     Decision Tree-Gini  0.792835  0.483871   0.465116  0.474308\n",
       "3  Decision Tree-Entropy  0.790239  0.481183   0.458974  0.469816\n",
       "4    Decision Tree-Tuned  0.831776  0.419355   0.590909  0.490566\n",
       "5            Gaussian NB  0.812046  0.209677   0.534247  0.301158\n",
       "6           Bernoulli NB  0.797508  0.131720   0.422414  0.200820\n",
       "7         Multinomial NB  0.531153  0.526882   0.212351  0.302703\n",
       "8          Random Forest  0.862928  0.454301   0.734783  0.561462\n",
       "9   Random Forest-Tunned  0.839564  0.220430   0.811881  0.346723"
      ]
     },
     "execution_count": 95,
     "metadata": {},
     "output_type": "execute_result"
    }
   ],
   "source": [
    "update_performance(name = 'Random Forest-Tunned', model = rf_model,test=ytest,pred=ypred_rf_tp)\n",
    "\n",
    "# print the dataframe\n",
    "perf_score"
   ]
  },
  {
   "cell_type": "code",
   "execution_count": null,
   "metadata": {
    "id": "f2mvHyRGBh8S"
   },
   "outputs": [],
   "source": []
  },
  {
   "cell_type": "markdown",
   "metadata": {
    "id": "_xkbK6InucLI"
   },
   "source": [
    "### Bagging Classifier"
   ]
  },
  {
   "cell_type": "code",
   "execution_count": 96,
   "metadata": {
    "colab": {
     "base_uri": "https://localhost:8080/"
    },
    "id": "C_U9Z8usugGK",
    "outputId": "32362bff-a415-4785-91d0-b437561898d1"
   },
   "outputs": [],
   "source": [
    "from sklearn.ensemble import BaggingClassifier\n",
    "dt=DecisionTreeClassifier(random_state=10)\n",
    "bc=BaggingClassifier(dt) # by default the estimator is Decision Tree\n",
    "bc.fit(xtrain,ytrain)\n",
    "ypred_bc = bc.predict(xtest)\n",
    "\n",
    "#print(accuracy_score(ytest,ypred_bc))"
   ]
  },
  {
   "cell_type": "markdown",
   "metadata": {
    "id": "58oGwSy7OBQ4"
   },
   "source": [
    "Summarizing the performance"
   ]
  },
  {
   "cell_type": "code",
   "execution_count": 97,
   "metadata": {
    "colab": {
     "base_uri": "https://localhost:8080/",
     "height": 488
    },
    "id": "EzIMlmrSOFM1",
    "outputId": "d589be44-74cf-4447-fa94-ae5e5b5193fd"
   },
   "outputs": [
    {
     "data": {
      "text/html": [
       "<div>\n",
       "<style scoped>\n",
       "    .dataframe tbody tr th:only-of-type {\n",
       "        vertical-align: middle;\n",
       "    }\n",
       "\n",
       "    .dataframe tbody tr th {\n",
       "        vertical-align: top;\n",
       "    }\n",
       "\n",
       "    .dataframe thead th {\n",
       "        text-align: right;\n",
       "    }\n",
       "</style>\n",
       "<table border=\"1\" class=\"dataframe\">\n",
       "  <thead>\n",
       "    <tr style=\"text-align: right;\">\n",
       "      <th></th>\n",
       "      <th>Model</th>\n",
       "      <th>Accuracy</th>\n",
       "      <th>Recall</th>\n",
       "      <th>Precision</th>\n",
       "      <th>F1 Score</th>\n",
       "    </tr>\n",
       "  </thead>\n",
       "  <tbody>\n",
       "    <tr>\n",
       "      <th>0</th>\n",
       "      <td>LogisticReg-Base</td>\n",
       "      <td>0.806854</td>\n",
       "      <td>0.000000</td>\n",
       "      <td>0.000000</td>\n",
       "      <td>0.000000</td>\n",
       "    </tr>\n",
       "    <tr>\n",
       "      <th>1</th>\n",
       "      <td>KNN-Base</td>\n",
       "      <td>0.762201</td>\n",
       "      <td>0.088710</td>\n",
       "      <td>0.217105</td>\n",
       "      <td>0.125954</td>\n",
       "    </tr>\n",
       "    <tr>\n",
       "      <th>2</th>\n",
       "      <td>Decision Tree-Gini</td>\n",
       "      <td>0.792835</td>\n",
       "      <td>0.483871</td>\n",
       "      <td>0.465116</td>\n",
       "      <td>0.474308</td>\n",
       "    </tr>\n",
       "    <tr>\n",
       "      <th>3</th>\n",
       "      <td>Decision Tree-Entropy</td>\n",
       "      <td>0.790239</td>\n",
       "      <td>0.481183</td>\n",
       "      <td>0.458974</td>\n",
       "      <td>0.469816</td>\n",
       "    </tr>\n",
       "    <tr>\n",
       "      <th>4</th>\n",
       "      <td>Decision Tree-Tuned</td>\n",
       "      <td>0.831776</td>\n",
       "      <td>0.419355</td>\n",
       "      <td>0.590909</td>\n",
       "      <td>0.490566</td>\n",
       "    </tr>\n",
       "    <tr>\n",
       "      <th>5</th>\n",
       "      <td>Gaussian NB</td>\n",
       "      <td>0.812046</td>\n",
       "      <td>0.209677</td>\n",
       "      <td>0.534247</td>\n",
       "      <td>0.301158</td>\n",
       "    </tr>\n",
       "    <tr>\n",
       "      <th>6</th>\n",
       "      <td>Bernoulli NB</td>\n",
       "      <td>0.797508</td>\n",
       "      <td>0.131720</td>\n",
       "      <td>0.422414</td>\n",
       "      <td>0.200820</td>\n",
       "    </tr>\n",
       "    <tr>\n",
       "      <th>7</th>\n",
       "      <td>Multinomial NB</td>\n",
       "      <td>0.531153</td>\n",
       "      <td>0.526882</td>\n",
       "      <td>0.212351</td>\n",
       "      <td>0.302703</td>\n",
       "    </tr>\n",
       "    <tr>\n",
       "      <th>8</th>\n",
       "      <td>Random Forest</td>\n",
       "      <td>0.862928</td>\n",
       "      <td>0.454301</td>\n",
       "      <td>0.734783</td>\n",
       "      <td>0.561462</td>\n",
       "    </tr>\n",
       "    <tr>\n",
       "      <th>9</th>\n",
       "      <td>Random Forest-Tunned</td>\n",
       "      <td>0.839564</td>\n",
       "      <td>0.220430</td>\n",
       "      <td>0.811881</td>\n",
       "      <td>0.346723</td>\n",
       "    </tr>\n",
       "    <tr>\n",
       "      <th>10</th>\n",
       "      <td>Bagging Classifier-dt</td>\n",
       "      <td>0.852544</td>\n",
       "      <td>0.438172</td>\n",
       "      <td>0.684874</td>\n",
       "      <td>0.534426</td>\n",
       "    </tr>\n",
       "  </tbody>\n",
       "</table>\n",
       "</div>"
      ],
      "text/plain": [
       "                    Model  Accuracy    Recall  Precision  F1 Score\n",
       "0        LogisticReg-Base  0.806854  0.000000   0.000000  0.000000\n",
       "1                KNN-Base  0.762201  0.088710   0.217105  0.125954\n",
       "2      Decision Tree-Gini  0.792835  0.483871   0.465116  0.474308\n",
       "3   Decision Tree-Entropy  0.790239  0.481183   0.458974  0.469816\n",
       "4     Decision Tree-Tuned  0.831776  0.419355   0.590909  0.490566\n",
       "5             Gaussian NB  0.812046  0.209677   0.534247  0.301158\n",
       "6            Bernoulli NB  0.797508  0.131720   0.422414  0.200820\n",
       "7          Multinomial NB  0.531153  0.526882   0.212351  0.302703\n",
       "8           Random Forest  0.862928  0.454301   0.734783  0.561462\n",
       "9    Random Forest-Tunned  0.839564  0.220430   0.811881  0.346723\n",
       "10  Bagging Classifier-dt  0.852544  0.438172   0.684874  0.534426"
      ]
     },
     "execution_count": 97,
     "metadata": {},
     "output_type": "execute_result"
    }
   ],
   "source": [
    "update_performance(name = 'Bagging Classifier-dt', \n",
    "                   model = bc,\n",
    "                   test=ytest,\n",
    "                   pred=ypred_bc)\n",
    "perf_score"
   ]
  },
  {
   "cell_type": "markdown",
   "metadata": {
    "id": "Xi6Q_Z8U17Lo"
   },
   "source": [
    "### KNN MODEL AS base model"
   ]
  },
  {
   "cell_type": "code",
   "execution_count": 98,
   "metadata": {
    "colab": {
     "base_uri": "https://localhost:8080/"
    },
    "id": "qIu9wKzE160J",
    "outputId": "de243730-b98f-4eea-f959-d0322df06ca1"
   },
   "outputs": [
    {
     "name": "stdout",
     "output_type": "stream",
     "text": [
      "0.7653167185877466\n"
     ]
    }
   ],
   "source": [
    "from sklearn.ensemble import BaggingClassifier\n",
    "\n",
    "knn=KNeighborsClassifier()\n",
    "\n",
    "bag_knn=BaggingClassifier(knn,random_state=10) # by default the estimator is Decision Tree\n",
    "bag_knn.fit(xtrain,ytrain)\n",
    "\n",
    "ypred_bag_knn = bag_knn.predict(xtest)\n",
    "\n",
    "print(accuracy_score(ytest,ypred_bag_knn))"
   ]
  },
  {
   "cell_type": "markdown",
   "metadata": {
    "id": "O729Toa_2ruA"
   },
   "source": [
    "1. The model performance has improved compared to RF and Decision Tree\n",
    "2. We have to run several models and then check the performance"
   ]
  },
  {
   "cell_type": "markdown",
   "metadata": {
    "id": "mOcBJJ5FPgqP"
   },
   "source": [
    "Summarizing the performance"
   ]
  },
  {
   "cell_type": "code",
   "execution_count": 99,
   "metadata": {
    "colab": {
     "base_uri": "https://localhost:8080/",
     "height": 519
    },
    "id": "Q67zaK5WPlFd",
    "outputId": "7b0257c6-e4fe-479d-8977-7a8b416ae683"
   },
   "outputs": [
    {
     "data": {
      "text/html": [
       "<div>\n",
       "<style scoped>\n",
       "    .dataframe tbody tr th:only-of-type {\n",
       "        vertical-align: middle;\n",
       "    }\n",
       "\n",
       "    .dataframe tbody tr th {\n",
       "        vertical-align: top;\n",
       "    }\n",
       "\n",
       "    .dataframe thead th {\n",
       "        text-align: right;\n",
       "    }\n",
       "</style>\n",
       "<table border=\"1\" class=\"dataframe\">\n",
       "  <thead>\n",
       "    <tr style=\"text-align: right;\">\n",
       "      <th></th>\n",
       "      <th>Model</th>\n",
       "      <th>Accuracy</th>\n",
       "      <th>Recall</th>\n",
       "      <th>Precision</th>\n",
       "      <th>F1 Score</th>\n",
       "    </tr>\n",
       "  </thead>\n",
       "  <tbody>\n",
       "    <tr>\n",
       "      <th>0</th>\n",
       "      <td>LogisticReg-Base</td>\n",
       "      <td>0.806854</td>\n",
       "      <td>0.000000</td>\n",
       "      <td>0.000000</td>\n",
       "      <td>0.000000</td>\n",
       "    </tr>\n",
       "    <tr>\n",
       "      <th>1</th>\n",
       "      <td>KNN-Base</td>\n",
       "      <td>0.762201</td>\n",
       "      <td>0.088710</td>\n",
       "      <td>0.217105</td>\n",
       "      <td>0.125954</td>\n",
       "    </tr>\n",
       "    <tr>\n",
       "      <th>2</th>\n",
       "      <td>Decision Tree-Gini</td>\n",
       "      <td>0.792835</td>\n",
       "      <td>0.483871</td>\n",
       "      <td>0.465116</td>\n",
       "      <td>0.474308</td>\n",
       "    </tr>\n",
       "    <tr>\n",
       "      <th>3</th>\n",
       "      <td>Decision Tree-Entropy</td>\n",
       "      <td>0.790239</td>\n",
       "      <td>0.481183</td>\n",
       "      <td>0.458974</td>\n",
       "      <td>0.469816</td>\n",
       "    </tr>\n",
       "    <tr>\n",
       "      <th>4</th>\n",
       "      <td>Decision Tree-Tuned</td>\n",
       "      <td>0.831776</td>\n",
       "      <td>0.419355</td>\n",
       "      <td>0.590909</td>\n",
       "      <td>0.490566</td>\n",
       "    </tr>\n",
       "    <tr>\n",
       "      <th>5</th>\n",
       "      <td>Gaussian NB</td>\n",
       "      <td>0.812046</td>\n",
       "      <td>0.209677</td>\n",
       "      <td>0.534247</td>\n",
       "      <td>0.301158</td>\n",
       "    </tr>\n",
       "    <tr>\n",
       "      <th>6</th>\n",
       "      <td>Bernoulli NB</td>\n",
       "      <td>0.797508</td>\n",
       "      <td>0.131720</td>\n",
       "      <td>0.422414</td>\n",
       "      <td>0.200820</td>\n",
       "    </tr>\n",
       "    <tr>\n",
       "      <th>7</th>\n",
       "      <td>Multinomial NB</td>\n",
       "      <td>0.531153</td>\n",
       "      <td>0.526882</td>\n",
       "      <td>0.212351</td>\n",
       "      <td>0.302703</td>\n",
       "    </tr>\n",
       "    <tr>\n",
       "      <th>8</th>\n",
       "      <td>Random Forest</td>\n",
       "      <td>0.862928</td>\n",
       "      <td>0.454301</td>\n",
       "      <td>0.734783</td>\n",
       "      <td>0.561462</td>\n",
       "    </tr>\n",
       "    <tr>\n",
       "      <th>9</th>\n",
       "      <td>Random Forest-Tunned</td>\n",
       "      <td>0.839564</td>\n",
       "      <td>0.220430</td>\n",
       "      <td>0.811881</td>\n",
       "      <td>0.346723</td>\n",
       "    </tr>\n",
       "    <tr>\n",
       "      <th>10</th>\n",
       "      <td>Bagging Classifier-dt</td>\n",
       "      <td>0.852544</td>\n",
       "      <td>0.438172</td>\n",
       "      <td>0.684874</td>\n",
       "      <td>0.534426</td>\n",
       "    </tr>\n",
       "    <tr>\n",
       "      <th>11</th>\n",
       "      <td>Bagging Classifier-knn</td>\n",
       "      <td>0.765317</td>\n",
       "      <td>0.069892</td>\n",
       "      <td>0.196970</td>\n",
       "      <td>0.103175</td>\n",
       "    </tr>\n",
       "  </tbody>\n",
       "</table>\n",
       "</div>"
      ],
      "text/plain": [
       "                     Model  Accuracy    Recall  Precision  F1 Score\n",
       "0         LogisticReg-Base  0.806854  0.000000   0.000000  0.000000\n",
       "1                 KNN-Base  0.762201  0.088710   0.217105  0.125954\n",
       "2       Decision Tree-Gini  0.792835  0.483871   0.465116  0.474308\n",
       "3    Decision Tree-Entropy  0.790239  0.481183   0.458974  0.469816\n",
       "4      Decision Tree-Tuned  0.831776  0.419355   0.590909  0.490566\n",
       "5              Gaussian NB  0.812046  0.209677   0.534247  0.301158\n",
       "6             Bernoulli NB  0.797508  0.131720   0.422414  0.200820\n",
       "7           Multinomial NB  0.531153  0.526882   0.212351  0.302703\n",
       "8            Random Forest  0.862928  0.454301   0.734783  0.561462\n",
       "9     Random Forest-Tunned  0.839564  0.220430   0.811881  0.346723\n",
       "10   Bagging Classifier-dt  0.852544  0.438172   0.684874  0.534426\n",
       "11  Bagging Classifier-knn  0.765317  0.069892   0.196970  0.103175"
      ]
     },
     "execution_count": 99,
     "metadata": {},
     "output_type": "execute_result"
    }
   ],
   "source": [
    "update_performance(name = 'Bagging Classifier-knn', model = bag_knn,test=ytest,pred=ypred_bag_knn)\n",
    "\n",
    "# print the dataframe\n",
    "perf_score"
   ]
  },
  {
   "cell_type": "markdown",
   "metadata": {
    "id": "b0bqk0L_5QWt"
   },
   "source": [
    "### Bagging -LR Model. LR as base model"
   ]
  },
  {
   "cell_type": "code",
   "execution_count": 100,
   "metadata": {
    "colab": {
     "base_uri": "https://localhost:8080/"
    },
    "id": "etL8U-TK5aX4",
    "outputId": "a3c823d8-7b77-4c00-c0fc-67ee6c864f04"
   },
   "outputs": [
    {
     "name": "stdout",
     "output_type": "stream",
     "text": [
      "0.8094496365524403\n"
     ]
    }
   ],
   "source": [
    "\n",
    "logr=LogisticRegression()\n",
    "\n",
    "bag_logr=BaggingClassifier(logr,random_state=10) # by default the estimator is Decision Tree\n",
    "bag_logr.fit(xtrain,ytrain)\n",
    "\n",
    "ypred_bag_logr = bag_logr.predict(xtest)\n",
    "\n",
    "print(accuracy_score(ytest,ypred_bag_logr))"
   ]
  },
  {
   "cell_type": "markdown",
   "metadata": {
    "id": "YaGj3jtuQQTe"
   },
   "source": [
    "Summarizing the performance"
   ]
  },
  {
   "cell_type": "code",
   "execution_count": 101,
   "metadata": {
    "colab": {
     "base_uri": "https://localhost:8080/",
     "height": 551
    },
    "id": "CqUo8XGxQTl3",
    "outputId": "732bd70d-7b55-435e-a9a9-a4f162dc1f4c"
   },
   "outputs": [
    {
     "data": {
      "text/html": [
       "<div>\n",
       "<style scoped>\n",
       "    .dataframe tbody tr th:only-of-type {\n",
       "        vertical-align: middle;\n",
       "    }\n",
       "\n",
       "    .dataframe tbody tr th {\n",
       "        vertical-align: top;\n",
       "    }\n",
       "\n",
       "    .dataframe thead th {\n",
       "        text-align: right;\n",
       "    }\n",
       "</style>\n",
       "<table border=\"1\" class=\"dataframe\">\n",
       "  <thead>\n",
       "    <tr style=\"text-align: right;\">\n",
       "      <th></th>\n",
       "      <th>Model</th>\n",
       "      <th>Accuracy</th>\n",
       "      <th>Recall</th>\n",
       "      <th>Precision</th>\n",
       "      <th>F1 Score</th>\n",
       "    </tr>\n",
       "  </thead>\n",
       "  <tbody>\n",
       "    <tr>\n",
       "      <th>0</th>\n",
       "      <td>LogisticReg-Base</td>\n",
       "      <td>0.806854</td>\n",
       "      <td>0.000000</td>\n",
       "      <td>0.000000</td>\n",
       "      <td>0.000000</td>\n",
       "    </tr>\n",
       "    <tr>\n",
       "      <th>1</th>\n",
       "      <td>KNN-Base</td>\n",
       "      <td>0.762201</td>\n",
       "      <td>0.088710</td>\n",
       "      <td>0.217105</td>\n",
       "      <td>0.125954</td>\n",
       "    </tr>\n",
       "    <tr>\n",
       "      <th>2</th>\n",
       "      <td>Decision Tree-Gini</td>\n",
       "      <td>0.792835</td>\n",
       "      <td>0.483871</td>\n",
       "      <td>0.465116</td>\n",
       "      <td>0.474308</td>\n",
       "    </tr>\n",
       "    <tr>\n",
       "      <th>3</th>\n",
       "      <td>Decision Tree-Entropy</td>\n",
       "      <td>0.790239</td>\n",
       "      <td>0.481183</td>\n",
       "      <td>0.458974</td>\n",
       "      <td>0.469816</td>\n",
       "    </tr>\n",
       "    <tr>\n",
       "      <th>4</th>\n",
       "      <td>Decision Tree-Tuned</td>\n",
       "      <td>0.831776</td>\n",
       "      <td>0.419355</td>\n",
       "      <td>0.590909</td>\n",
       "      <td>0.490566</td>\n",
       "    </tr>\n",
       "    <tr>\n",
       "      <th>5</th>\n",
       "      <td>Gaussian NB</td>\n",
       "      <td>0.812046</td>\n",
       "      <td>0.209677</td>\n",
       "      <td>0.534247</td>\n",
       "      <td>0.301158</td>\n",
       "    </tr>\n",
       "    <tr>\n",
       "      <th>6</th>\n",
       "      <td>Bernoulli NB</td>\n",
       "      <td>0.797508</td>\n",
       "      <td>0.131720</td>\n",
       "      <td>0.422414</td>\n",
       "      <td>0.200820</td>\n",
       "    </tr>\n",
       "    <tr>\n",
       "      <th>7</th>\n",
       "      <td>Multinomial NB</td>\n",
       "      <td>0.531153</td>\n",
       "      <td>0.526882</td>\n",
       "      <td>0.212351</td>\n",
       "      <td>0.302703</td>\n",
       "    </tr>\n",
       "    <tr>\n",
       "      <th>8</th>\n",
       "      <td>Random Forest</td>\n",
       "      <td>0.862928</td>\n",
       "      <td>0.454301</td>\n",
       "      <td>0.734783</td>\n",
       "      <td>0.561462</td>\n",
       "    </tr>\n",
       "    <tr>\n",
       "      <th>9</th>\n",
       "      <td>Random Forest-Tunned</td>\n",
       "      <td>0.839564</td>\n",
       "      <td>0.220430</td>\n",
       "      <td>0.811881</td>\n",
       "      <td>0.346723</td>\n",
       "    </tr>\n",
       "    <tr>\n",
       "      <th>10</th>\n",
       "      <td>Bagging Classifier-dt</td>\n",
       "      <td>0.852544</td>\n",
       "      <td>0.438172</td>\n",
       "      <td>0.684874</td>\n",
       "      <td>0.534426</td>\n",
       "    </tr>\n",
       "    <tr>\n",
       "      <th>11</th>\n",
       "      <td>Bagging Classifier-knn</td>\n",
       "      <td>0.765317</td>\n",
       "      <td>0.069892</td>\n",
       "      <td>0.196970</td>\n",
       "      <td>0.103175</td>\n",
       "    </tr>\n",
       "    <tr>\n",
       "      <th>12</th>\n",
       "      <td>Bagging Classifier-Log</td>\n",
       "      <td>0.809450</td>\n",
       "      <td>0.088710</td>\n",
       "      <td>0.540984</td>\n",
       "      <td>0.152425</td>\n",
       "    </tr>\n",
       "  </tbody>\n",
       "</table>\n",
       "</div>"
      ],
      "text/plain": [
       "                     Model  Accuracy    Recall  Precision  F1 Score\n",
       "0         LogisticReg-Base  0.806854  0.000000   0.000000  0.000000\n",
       "1                 KNN-Base  0.762201  0.088710   0.217105  0.125954\n",
       "2       Decision Tree-Gini  0.792835  0.483871   0.465116  0.474308\n",
       "3    Decision Tree-Entropy  0.790239  0.481183   0.458974  0.469816\n",
       "4      Decision Tree-Tuned  0.831776  0.419355   0.590909  0.490566\n",
       "5              Gaussian NB  0.812046  0.209677   0.534247  0.301158\n",
       "6             Bernoulli NB  0.797508  0.131720   0.422414  0.200820\n",
       "7           Multinomial NB  0.531153  0.526882   0.212351  0.302703\n",
       "8            Random Forest  0.862928  0.454301   0.734783  0.561462\n",
       "9     Random Forest-Tunned  0.839564  0.220430   0.811881  0.346723\n",
       "10   Bagging Classifier-dt  0.852544  0.438172   0.684874  0.534426\n",
       "11  Bagging Classifier-knn  0.765317  0.069892   0.196970  0.103175\n",
       "12  Bagging Classifier-Log  0.809450  0.088710   0.540984  0.152425"
      ]
     },
     "execution_count": 101,
     "metadata": {},
     "output_type": "execute_result"
    }
   ],
   "source": [
    "update_performance(name = 'Bagging Classifier-Log', model = bag_logr,test=ytest,pred=ypred_bag_logr)\n",
    "\n",
    "# print the dataframe\n",
    "perf_score"
   ]
  },
  {
   "cell_type": "markdown",
   "metadata": {
    "id": "a9cum6IhLbq0"
   },
   "source": [
    "**Ensemble Learning- AdaBoosting**"
   ]
  },
  {
   "cell_type": "code",
   "execution_count": 102,
   "metadata": {
    "id": "CaqDbZ5G1WdF"
   },
   "outputs": [],
   "source": [
    "from sklearn.ensemble  import AdaBoostClassifier"
   ]
  },
  {
   "cell_type": "code",
   "execution_count": 103,
   "metadata": {
    "colab": {
     "base_uri": "https://localhost:8080/"
    },
    "id": "T02h77VF1V8J",
    "outputId": "9eb7f442-58b7-4410-d1fc-7b899613e596"
   },
   "outputs": [],
   "source": [
    "abcl = AdaBoostClassifier(random_state=10)\n",
    "abcl.fit(xtrain,ytrain)\n",
    "\n",
    "ypred_abcl = abcl.predict(xtest)\n",
    "#print(accuracy_score(ytest,ypred_abcl))"
   ]
  },
  {
   "cell_type": "code",
   "execution_count": 104,
   "metadata": {
    "colab": {
     "base_uri": "https://localhost:8080/",
     "height": 582
    },
    "id": "YkmDES-vQtJN",
    "outputId": "496cad1f-3e05-4883-8956-0e4493ea5ce5"
   },
   "outputs": [
    {
     "data": {
      "text/html": [
       "<div>\n",
       "<style scoped>\n",
       "    .dataframe tbody tr th:only-of-type {\n",
       "        vertical-align: middle;\n",
       "    }\n",
       "\n",
       "    .dataframe tbody tr th {\n",
       "        vertical-align: top;\n",
       "    }\n",
       "\n",
       "    .dataframe thead th {\n",
       "        text-align: right;\n",
       "    }\n",
       "</style>\n",
       "<table border=\"1\" class=\"dataframe\">\n",
       "  <thead>\n",
       "    <tr style=\"text-align: right;\">\n",
       "      <th></th>\n",
       "      <th>Model</th>\n",
       "      <th>Accuracy</th>\n",
       "      <th>Recall</th>\n",
       "      <th>Precision</th>\n",
       "      <th>F1 Score</th>\n",
       "    </tr>\n",
       "  </thead>\n",
       "  <tbody>\n",
       "    <tr>\n",
       "      <th>0</th>\n",
       "      <td>LogisticReg-Base</td>\n",
       "      <td>0.806854</td>\n",
       "      <td>0.000000</td>\n",
       "      <td>0.000000</td>\n",
       "      <td>0.000000</td>\n",
       "    </tr>\n",
       "    <tr>\n",
       "      <th>1</th>\n",
       "      <td>KNN-Base</td>\n",
       "      <td>0.762201</td>\n",
       "      <td>0.088710</td>\n",
       "      <td>0.217105</td>\n",
       "      <td>0.125954</td>\n",
       "    </tr>\n",
       "    <tr>\n",
       "      <th>2</th>\n",
       "      <td>Decision Tree-Gini</td>\n",
       "      <td>0.792835</td>\n",
       "      <td>0.483871</td>\n",
       "      <td>0.465116</td>\n",
       "      <td>0.474308</td>\n",
       "    </tr>\n",
       "    <tr>\n",
       "      <th>3</th>\n",
       "      <td>Decision Tree-Entropy</td>\n",
       "      <td>0.790239</td>\n",
       "      <td>0.481183</td>\n",
       "      <td>0.458974</td>\n",
       "      <td>0.469816</td>\n",
       "    </tr>\n",
       "    <tr>\n",
       "      <th>4</th>\n",
       "      <td>Decision Tree-Tuned</td>\n",
       "      <td>0.831776</td>\n",
       "      <td>0.419355</td>\n",
       "      <td>0.590909</td>\n",
       "      <td>0.490566</td>\n",
       "    </tr>\n",
       "    <tr>\n",
       "      <th>5</th>\n",
       "      <td>Gaussian NB</td>\n",
       "      <td>0.812046</td>\n",
       "      <td>0.209677</td>\n",
       "      <td>0.534247</td>\n",
       "      <td>0.301158</td>\n",
       "    </tr>\n",
       "    <tr>\n",
       "      <th>6</th>\n",
       "      <td>Bernoulli NB</td>\n",
       "      <td>0.797508</td>\n",
       "      <td>0.131720</td>\n",
       "      <td>0.422414</td>\n",
       "      <td>0.200820</td>\n",
       "    </tr>\n",
       "    <tr>\n",
       "      <th>7</th>\n",
       "      <td>Multinomial NB</td>\n",
       "      <td>0.531153</td>\n",
       "      <td>0.526882</td>\n",
       "      <td>0.212351</td>\n",
       "      <td>0.302703</td>\n",
       "    </tr>\n",
       "    <tr>\n",
       "      <th>8</th>\n",
       "      <td>Random Forest</td>\n",
       "      <td>0.862928</td>\n",
       "      <td>0.454301</td>\n",
       "      <td>0.734783</td>\n",
       "      <td>0.561462</td>\n",
       "    </tr>\n",
       "    <tr>\n",
       "      <th>9</th>\n",
       "      <td>Random Forest-Tunned</td>\n",
       "      <td>0.839564</td>\n",
       "      <td>0.220430</td>\n",
       "      <td>0.811881</td>\n",
       "      <td>0.346723</td>\n",
       "    </tr>\n",
       "    <tr>\n",
       "      <th>10</th>\n",
       "      <td>Bagging Classifier-dt</td>\n",
       "      <td>0.852544</td>\n",
       "      <td>0.438172</td>\n",
       "      <td>0.684874</td>\n",
       "      <td>0.534426</td>\n",
       "    </tr>\n",
       "    <tr>\n",
       "      <th>11</th>\n",
       "      <td>Bagging Classifier-knn</td>\n",
       "      <td>0.765317</td>\n",
       "      <td>0.069892</td>\n",
       "      <td>0.196970</td>\n",
       "      <td>0.103175</td>\n",
       "    </tr>\n",
       "    <tr>\n",
       "      <th>12</th>\n",
       "      <td>Bagging Classifier-Log</td>\n",
       "      <td>0.809450</td>\n",
       "      <td>0.088710</td>\n",
       "      <td>0.540984</td>\n",
       "      <td>0.152425</td>\n",
       "    </tr>\n",
       "    <tr>\n",
       "      <th>13</th>\n",
       "      <td>AdaBoost-dt</td>\n",
       "      <td>0.862409</td>\n",
       "      <td>0.465054</td>\n",
       "      <td>0.723849</td>\n",
       "      <td>0.566285</td>\n",
       "    </tr>\n",
       "  </tbody>\n",
       "</table>\n",
       "</div>"
      ],
      "text/plain": [
       "                     Model  Accuracy    Recall  Precision  F1 Score\n",
       "0         LogisticReg-Base  0.806854  0.000000   0.000000  0.000000\n",
       "1                 KNN-Base  0.762201  0.088710   0.217105  0.125954\n",
       "2       Decision Tree-Gini  0.792835  0.483871   0.465116  0.474308\n",
       "3    Decision Tree-Entropy  0.790239  0.481183   0.458974  0.469816\n",
       "4      Decision Tree-Tuned  0.831776  0.419355   0.590909  0.490566\n",
       "5              Gaussian NB  0.812046  0.209677   0.534247  0.301158\n",
       "6             Bernoulli NB  0.797508  0.131720   0.422414  0.200820\n",
       "7           Multinomial NB  0.531153  0.526882   0.212351  0.302703\n",
       "8            Random Forest  0.862928  0.454301   0.734783  0.561462\n",
       "9     Random Forest-Tunned  0.839564  0.220430   0.811881  0.346723\n",
       "10   Bagging Classifier-dt  0.852544  0.438172   0.684874  0.534426\n",
       "11  Bagging Classifier-knn  0.765317  0.069892   0.196970  0.103175\n",
       "12  Bagging Classifier-Log  0.809450  0.088710   0.540984  0.152425\n",
       "13             AdaBoost-dt  0.862409  0.465054   0.723849  0.566285"
      ]
     },
     "execution_count": 104,
     "metadata": {},
     "output_type": "execute_result"
    }
   ],
   "source": [
    "update_performance(name = 'AdaBoost-dt', \n",
    "                   model = abcl,\n",
    "                   test=ytest,\n",
    "                   pred=ypred_abcl)\n",
    "perf_score"
   ]
  },
  {
   "cell_type": "code",
   "execution_count": 105,
   "metadata": {},
   "outputs": [],
   "source": [
    "from imblearn.over_sampling import SMOTE"
   ]
  },
  {
   "cell_type": "code",
   "execution_count": 106,
   "metadata": {},
   "outputs": [],
   "source": [
    "smote = SMOTE(sampling_strategy=0.50,random_state = 10)\n",
    "xtrain_sm, ytrain_sm = smote.fit_resample(xtrain,ytrain)"
   ]
  },
  {
   "cell_type": "code",
   "execution_count": 107,
   "metadata": {},
   "outputs": [
    {
     "data": {
      "text/plain": [
       "(9184, 11)"
      ]
     },
     "execution_count": 107,
     "metadata": {},
     "output_type": "execute_result"
    }
   ],
   "source": [
    "xtrain_sm.shape"
   ]
  },
  {
   "cell_type": "markdown",
   "metadata": {},
   "source": [
    "#### Logistic Regression - SMOTE"
   ]
  },
  {
   "cell_type": "code",
   "execution_count": 108,
   "metadata": {},
   "outputs": [],
   "source": [
    "lr_smote = LogisticRegression()\n",
    "lr_smote.fit(xtrain_sm, ytrain_sm)\n",
    "y_pred_lr_smote= lr_smote.predict(xtest)"
   ]
  },
  {
   "cell_type": "code",
   "execution_count": 109,
   "metadata": {},
   "outputs": [
    {
     "data": {
      "text/html": [
       "<div>\n",
       "<style scoped>\n",
       "    .dataframe tbody tr th:only-of-type {\n",
       "        vertical-align: middle;\n",
       "    }\n",
       "\n",
       "    .dataframe tbody tr th {\n",
       "        vertical-align: top;\n",
       "    }\n",
       "\n",
       "    .dataframe thead th {\n",
       "        text-align: right;\n",
       "    }\n",
       "</style>\n",
       "<table border=\"1\" class=\"dataframe\">\n",
       "  <thead>\n",
       "    <tr style=\"text-align: right;\">\n",
       "      <th></th>\n",
       "      <th>Model</th>\n",
       "      <th>Accuracy</th>\n",
       "      <th>Recall</th>\n",
       "      <th>Precision</th>\n",
       "      <th>F1 Score</th>\n",
       "    </tr>\n",
       "  </thead>\n",
       "  <tbody>\n",
       "    <tr>\n",
       "      <th>0</th>\n",
       "      <td>LogisticReg-Base</td>\n",
       "      <td>0.806854</td>\n",
       "      <td>0.000000</td>\n",
       "      <td>0.000000</td>\n",
       "      <td>0.000000</td>\n",
       "    </tr>\n",
       "    <tr>\n",
       "      <th>1</th>\n",
       "      <td>KNN-Base</td>\n",
       "      <td>0.762201</td>\n",
       "      <td>0.088710</td>\n",
       "      <td>0.217105</td>\n",
       "      <td>0.125954</td>\n",
       "    </tr>\n",
       "    <tr>\n",
       "      <th>2</th>\n",
       "      <td>Decision Tree-Gini</td>\n",
       "      <td>0.792835</td>\n",
       "      <td>0.483871</td>\n",
       "      <td>0.465116</td>\n",
       "      <td>0.474308</td>\n",
       "    </tr>\n",
       "    <tr>\n",
       "      <th>3</th>\n",
       "      <td>Decision Tree-Entropy</td>\n",
       "      <td>0.790239</td>\n",
       "      <td>0.481183</td>\n",
       "      <td>0.458974</td>\n",
       "      <td>0.469816</td>\n",
       "    </tr>\n",
       "    <tr>\n",
       "      <th>4</th>\n",
       "      <td>Decision Tree-Tuned</td>\n",
       "      <td>0.831776</td>\n",
       "      <td>0.419355</td>\n",
       "      <td>0.590909</td>\n",
       "      <td>0.490566</td>\n",
       "    </tr>\n",
       "    <tr>\n",
       "      <th>5</th>\n",
       "      <td>Gaussian NB</td>\n",
       "      <td>0.812046</td>\n",
       "      <td>0.209677</td>\n",
       "      <td>0.534247</td>\n",
       "      <td>0.301158</td>\n",
       "    </tr>\n",
       "    <tr>\n",
       "      <th>6</th>\n",
       "      <td>Bernoulli NB</td>\n",
       "      <td>0.797508</td>\n",
       "      <td>0.131720</td>\n",
       "      <td>0.422414</td>\n",
       "      <td>0.200820</td>\n",
       "    </tr>\n",
       "    <tr>\n",
       "      <th>7</th>\n",
       "      <td>Multinomial NB</td>\n",
       "      <td>0.531153</td>\n",
       "      <td>0.526882</td>\n",
       "      <td>0.212351</td>\n",
       "      <td>0.302703</td>\n",
       "    </tr>\n",
       "    <tr>\n",
       "      <th>8</th>\n",
       "      <td>Random Forest</td>\n",
       "      <td>0.862928</td>\n",
       "      <td>0.454301</td>\n",
       "      <td>0.734783</td>\n",
       "      <td>0.561462</td>\n",
       "    </tr>\n",
       "    <tr>\n",
       "      <th>9</th>\n",
       "      <td>Random Forest-Tunned</td>\n",
       "      <td>0.839564</td>\n",
       "      <td>0.220430</td>\n",
       "      <td>0.811881</td>\n",
       "      <td>0.346723</td>\n",
       "    </tr>\n",
       "    <tr>\n",
       "      <th>10</th>\n",
       "      <td>Bagging Classifier-dt</td>\n",
       "      <td>0.852544</td>\n",
       "      <td>0.438172</td>\n",
       "      <td>0.684874</td>\n",
       "      <td>0.534426</td>\n",
       "    </tr>\n",
       "    <tr>\n",
       "      <th>11</th>\n",
       "      <td>Bagging Classifier-knn</td>\n",
       "      <td>0.765317</td>\n",
       "      <td>0.069892</td>\n",
       "      <td>0.196970</td>\n",
       "      <td>0.103175</td>\n",
       "    </tr>\n",
       "    <tr>\n",
       "      <th>12</th>\n",
       "      <td>Bagging Classifier-Log</td>\n",
       "      <td>0.809450</td>\n",
       "      <td>0.088710</td>\n",
       "      <td>0.540984</td>\n",
       "      <td>0.152425</td>\n",
       "    </tr>\n",
       "    <tr>\n",
       "      <th>13</th>\n",
       "      <td>AdaBoost-dt</td>\n",
       "      <td>0.862409</td>\n",
       "      <td>0.465054</td>\n",
       "      <td>0.723849</td>\n",
       "      <td>0.566285</td>\n",
       "    </tr>\n",
       "    <tr>\n",
       "      <th>14</th>\n",
       "      <td>LogisticReg-Base-Smote</td>\n",
       "      <td>0.754413</td>\n",
       "      <td>0.338710</td>\n",
       "      <td>0.356941</td>\n",
       "      <td>0.347586</td>\n",
       "    </tr>\n",
       "  </tbody>\n",
       "</table>\n",
       "</div>"
      ],
      "text/plain": [
       "                     Model  Accuracy    Recall  Precision  F1 Score\n",
       "0         LogisticReg-Base  0.806854  0.000000   0.000000  0.000000\n",
       "1                 KNN-Base  0.762201  0.088710   0.217105  0.125954\n",
       "2       Decision Tree-Gini  0.792835  0.483871   0.465116  0.474308\n",
       "3    Decision Tree-Entropy  0.790239  0.481183   0.458974  0.469816\n",
       "4      Decision Tree-Tuned  0.831776  0.419355   0.590909  0.490566\n",
       "5              Gaussian NB  0.812046  0.209677   0.534247  0.301158\n",
       "6             Bernoulli NB  0.797508  0.131720   0.422414  0.200820\n",
       "7           Multinomial NB  0.531153  0.526882   0.212351  0.302703\n",
       "8            Random Forest  0.862928  0.454301   0.734783  0.561462\n",
       "9     Random Forest-Tunned  0.839564  0.220430   0.811881  0.346723\n",
       "10   Bagging Classifier-dt  0.852544  0.438172   0.684874  0.534426\n",
       "11  Bagging Classifier-knn  0.765317  0.069892   0.196970  0.103175\n",
       "12  Bagging Classifier-Log  0.809450  0.088710   0.540984  0.152425\n",
       "13             AdaBoost-dt  0.862409  0.465054   0.723849  0.566285\n",
       "14  LogisticReg-Base-Smote  0.754413  0.338710   0.356941  0.347586"
      ]
     },
     "execution_count": 109,
     "metadata": {},
     "output_type": "execute_result"
    }
   ],
   "source": [
    "update_performance(name = 'LogisticReg-Base-Smote', \n",
    "                   model = lr_smote,\n",
    "                   test=ytest,\n",
    "                   pred=y_pred_lr_smote)\n",
    "# print the dataframe\n",
    "perf_score"
   ]
  },
  {
   "cell_type": "markdown",
   "metadata": {
    "id": "4hKXQjzNSE5O"
   },
   "source": [
    "Ensemble Learning - Gradient Boosting"
   ]
  },
  {
   "cell_type": "code",
   "execution_count": 110,
   "metadata": {
    "colab": {
     "base_uri": "https://localhost:8080/"
    },
    "id": "bfRvrYCKSMCd",
    "outputId": "5ebd09f5-82f9-4f82-e667-a6b8c79829f1"
   },
   "outputs": [
    {
     "name": "stdout",
     "output_type": "stream",
     "text": [
      "0.867601246105919\n"
     ]
    }
   ],
   "source": [
    "from sklearn.ensemble import GradientBoostingClassifier\n",
    "gbcl = GradientBoostingClassifier(n_estimators=50,random_state=10)\n",
    "gbcl.fit(xtrain,ytrain)\n",
    "ypred_gbcl = gbcl.predict(xtest)\n",
    "print(accuracy_score(ytest,ypred_gbcl))"
   ]
  },
  {
   "cell_type": "code",
   "execution_count": 111,
   "metadata": {
    "colab": {
     "base_uri": "https://localhost:8080/"
    },
    "id": "vVDknxdcSL3F",
    "outputId": "bfbec773-e495-4555-f5ea-eb7bb0084651"
   },
   "outputs": [
    {
     "name": "stdout",
     "output_type": "stream",
     "text": [
      "0.8582554517133957\n"
     ]
    }
   ],
   "source": [
    "gbcl = GradientBoostingClassifier(n_estimators=50,learning_rate=0.5,random_state=10,max_depth=3)\n",
    "gbcl.fit(xtrain,ytrain)\n",
    "ypred_gbcl = gbcl.predict(xtest)\n",
    "print(accuracy_score(ytest,ypred_gbcl))"
   ]
  },
  {
   "cell_type": "code",
   "execution_count": 112,
   "metadata": {
    "colab": {
     "base_uri": "https://localhost:8080/"
    },
    "id": "eGfFSuwISLoE",
    "outputId": "88ea2a20-f618-48e0-ffe9-69d061edefd7"
   },
   "outputs": [
    {
     "name": "stdout",
     "output_type": "stream",
     "text": [
      "0.8582554517133957\n"
     ]
    }
   ],
   "source": [
    "gbcl = GradientBoostingClassifier(n_estimators=50,learning_rate=0.5,\n",
    "                                  random_state=10,max_depth=3)\n",
    "gbcl.fit(xtrain,ytrain)\n",
    "ypred_gbcl = gbcl.predict(xtest)\n",
    "print(accuracy_score(ytest,ypred_gbcl))"
   ]
  },
  {
   "cell_type": "markdown",
   "metadata": {
    "id": "Hjk5VQpyRj04"
   },
   "source": [
    "Summarizing the performance"
   ]
  },
  {
   "cell_type": "code",
   "execution_count": 113,
   "metadata": {
    "colab": {
     "base_uri": "https://localhost:8080/",
     "height": 676
    },
    "id": "HhlBoby3L1lM",
    "outputId": "52c8f43b-f753-4f27-d0ea-f8a89711ded7"
   },
   "outputs": [
    {
     "data": {
      "text/html": [
       "<div>\n",
       "<style scoped>\n",
       "    .dataframe tbody tr th:only-of-type {\n",
       "        vertical-align: middle;\n",
       "    }\n",
       "\n",
       "    .dataframe tbody tr th {\n",
       "        vertical-align: top;\n",
       "    }\n",
       "\n",
       "    .dataframe thead th {\n",
       "        text-align: right;\n",
       "    }\n",
       "</style>\n",
       "<table border=\"1\" class=\"dataframe\">\n",
       "  <thead>\n",
       "    <tr style=\"text-align: right;\">\n",
       "      <th></th>\n",
       "      <th>Model</th>\n",
       "      <th>Accuracy</th>\n",
       "      <th>Recall</th>\n",
       "      <th>Precision</th>\n",
       "      <th>F1 Score</th>\n",
       "    </tr>\n",
       "  </thead>\n",
       "  <tbody>\n",
       "    <tr>\n",
       "      <th>0</th>\n",
       "      <td>LogisticReg-Base</td>\n",
       "      <td>0.806854</td>\n",
       "      <td>0.000000</td>\n",
       "      <td>0.000000</td>\n",
       "      <td>0.000000</td>\n",
       "    </tr>\n",
       "    <tr>\n",
       "      <th>1</th>\n",
       "      <td>KNN-Base</td>\n",
       "      <td>0.762201</td>\n",
       "      <td>0.088710</td>\n",
       "      <td>0.217105</td>\n",
       "      <td>0.125954</td>\n",
       "    </tr>\n",
       "    <tr>\n",
       "      <th>2</th>\n",
       "      <td>Decision Tree-Gini</td>\n",
       "      <td>0.792835</td>\n",
       "      <td>0.483871</td>\n",
       "      <td>0.465116</td>\n",
       "      <td>0.474308</td>\n",
       "    </tr>\n",
       "    <tr>\n",
       "      <th>3</th>\n",
       "      <td>Decision Tree-Entropy</td>\n",
       "      <td>0.790239</td>\n",
       "      <td>0.481183</td>\n",
       "      <td>0.458974</td>\n",
       "      <td>0.469816</td>\n",
       "    </tr>\n",
       "    <tr>\n",
       "      <th>4</th>\n",
       "      <td>Decision Tree-Tuned</td>\n",
       "      <td>0.831776</td>\n",
       "      <td>0.419355</td>\n",
       "      <td>0.590909</td>\n",
       "      <td>0.490566</td>\n",
       "    </tr>\n",
       "    <tr>\n",
       "      <th>5</th>\n",
       "      <td>Gaussian NB</td>\n",
       "      <td>0.812046</td>\n",
       "      <td>0.209677</td>\n",
       "      <td>0.534247</td>\n",
       "      <td>0.301158</td>\n",
       "    </tr>\n",
       "    <tr>\n",
       "      <th>6</th>\n",
       "      <td>Bernoulli NB</td>\n",
       "      <td>0.797508</td>\n",
       "      <td>0.131720</td>\n",
       "      <td>0.422414</td>\n",
       "      <td>0.200820</td>\n",
       "    </tr>\n",
       "    <tr>\n",
       "      <th>7</th>\n",
       "      <td>Multinomial NB</td>\n",
       "      <td>0.531153</td>\n",
       "      <td>0.526882</td>\n",
       "      <td>0.212351</td>\n",
       "      <td>0.302703</td>\n",
       "    </tr>\n",
       "    <tr>\n",
       "      <th>8</th>\n",
       "      <td>Random Forest</td>\n",
       "      <td>0.862928</td>\n",
       "      <td>0.454301</td>\n",
       "      <td>0.734783</td>\n",
       "      <td>0.561462</td>\n",
       "    </tr>\n",
       "    <tr>\n",
       "      <th>9</th>\n",
       "      <td>Random Forest-Tunned</td>\n",
       "      <td>0.839564</td>\n",
       "      <td>0.220430</td>\n",
       "      <td>0.811881</td>\n",
       "      <td>0.346723</td>\n",
       "    </tr>\n",
       "    <tr>\n",
       "      <th>10</th>\n",
       "      <td>Bagging Classifier-dt</td>\n",
       "      <td>0.852544</td>\n",
       "      <td>0.438172</td>\n",
       "      <td>0.684874</td>\n",
       "      <td>0.534426</td>\n",
       "    </tr>\n",
       "    <tr>\n",
       "      <th>11</th>\n",
       "      <td>Bagging Classifier-knn</td>\n",
       "      <td>0.765317</td>\n",
       "      <td>0.069892</td>\n",
       "      <td>0.196970</td>\n",
       "      <td>0.103175</td>\n",
       "    </tr>\n",
       "    <tr>\n",
       "      <th>12</th>\n",
       "      <td>Bagging Classifier-Log</td>\n",
       "      <td>0.809450</td>\n",
       "      <td>0.088710</td>\n",
       "      <td>0.540984</td>\n",
       "      <td>0.152425</td>\n",
       "    </tr>\n",
       "    <tr>\n",
       "      <th>13</th>\n",
       "      <td>AdaBoost-dt</td>\n",
       "      <td>0.862409</td>\n",
       "      <td>0.465054</td>\n",
       "      <td>0.723849</td>\n",
       "      <td>0.566285</td>\n",
       "    </tr>\n",
       "    <tr>\n",
       "      <th>14</th>\n",
       "      <td>LogisticReg-Base-Smote</td>\n",
       "      <td>0.754413</td>\n",
       "      <td>0.338710</td>\n",
       "      <td>0.356941</td>\n",
       "      <td>0.347586</td>\n",
       "    </tr>\n",
       "    <tr>\n",
       "      <th>15</th>\n",
       "      <td>Gradient Boosting</td>\n",
       "      <td>0.858255</td>\n",
       "      <td>0.451613</td>\n",
       "      <td>0.708861</td>\n",
       "      <td>0.551724</td>\n",
       "    </tr>\n",
       "  </tbody>\n",
       "</table>\n",
       "</div>"
      ],
      "text/plain": [
       "                     Model  Accuracy    Recall  Precision  F1 Score\n",
       "0         LogisticReg-Base  0.806854  0.000000   0.000000  0.000000\n",
       "1                 KNN-Base  0.762201  0.088710   0.217105  0.125954\n",
       "2       Decision Tree-Gini  0.792835  0.483871   0.465116  0.474308\n",
       "3    Decision Tree-Entropy  0.790239  0.481183   0.458974  0.469816\n",
       "4      Decision Tree-Tuned  0.831776  0.419355   0.590909  0.490566\n",
       "5              Gaussian NB  0.812046  0.209677   0.534247  0.301158\n",
       "6             Bernoulli NB  0.797508  0.131720   0.422414  0.200820\n",
       "7           Multinomial NB  0.531153  0.526882   0.212351  0.302703\n",
       "8            Random Forest  0.862928  0.454301   0.734783  0.561462\n",
       "9     Random Forest-Tunned  0.839564  0.220430   0.811881  0.346723\n",
       "10   Bagging Classifier-dt  0.852544  0.438172   0.684874  0.534426\n",
       "11  Bagging Classifier-knn  0.765317  0.069892   0.196970  0.103175\n",
       "12  Bagging Classifier-Log  0.809450  0.088710   0.540984  0.152425\n",
       "13             AdaBoost-dt  0.862409  0.465054   0.723849  0.566285\n",
       "14  LogisticReg-Base-Smote  0.754413  0.338710   0.356941  0.347586\n",
       "15       Gradient Boosting  0.858255  0.451613   0.708861  0.551724"
      ]
     },
     "execution_count": 113,
     "metadata": {},
     "output_type": "execute_result"
    }
   ],
   "source": [
    "update_performance(name = 'Gradient Boosting', \n",
    "                   model = gbcl,\n",
    "                   test=ytest,\n",
    "                   pred=ypred_gbcl)\n",
    "\n",
    "# print the dataframe\n",
    "perf_score"
   ]
  },
  {
   "cell_type": "markdown",
   "metadata": {
    "id": "70ZrdJQVukjO"
   },
   "source": [
    "XGBOOST"
   ]
  },
  {
   "cell_type": "code",
   "execution_count": 114,
   "metadata": {
    "id": "REX199NDu-Nx"
   },
   "outputs": [],
   "source": [
    "# !pip install xgboost"
   ]
  },
  {
   "cell_type": "code",
   "execution_count": 115,
   "metadata": {
    "id": "IhMqM40Ruswo"
   },
   "outputs": [],
   "source": [
    "from xgboost import XGBClassifier"
   ]
  },
  {
   "cell_type": "code",
   "execution_count": 116,
   "metadata": {
    "colab": {
     "base_uri": "https://localhost:8080/"
    },
    "id": "h-G2RjGxu5YI",
    "outputId": "db0ef70d-995d-4617-b455-fcdc32444dbf"
   },
   "outputs": [
    {
     "name": "stdout",
     "output_type": "stream",
     "text": [
      "0.8525441329179647\n"
     ]
    }
   ],
   "source": [
    "xgb= XGBClassifier(random_state=10)\n",
    "xgb.fit(xtrain,ytrain)\n",
    "\n",
    "ypred_xgb= xgb.predict(xtest)\n",
    "print(accuracy_score(ytest,ypred_xgb))"
   ]
  },
  {
   "cell_type": "code",
   "execution_count": 117,
   "metadata": {
    "colab": {
     "base_uri": "https://localhost:8080/"
    },
    "id": "hZb9S_cXuoez",
    "outputId": "68966685-029d-4b59-f6ab-ad3ec6123032"
   },
   "outputs": [
    {
     "name": "stdout",
     "output_type": "stream",
     "text": [
      "0.8655244029075805\n"
     ]
    }
   ],
   "source": [
    "xgb= XGBClassifier(booster='gbtree',gamma=3,max_depth=3, min_child_weight=3,\n",
    "                   n_estimators=50, reg_lambda=1,random_state=10)\n",
    "xgb.fit(xtrain,ytrain)\n",
    "\n",
    "\n",
    "ypred_xgb= xgb.predict(xtest)\n",
    "print(accuracy_score(ytest,ypred_xgb))"
   ]
  },
  {
   "cell_type": "markdown",
   "metadata": {
    "id": "3jxays1SR5Uf"
   },
   "source": [
    "Summarizing the performance"
   ]
  },
  {
   "cell_type": "code",
   "execution_count": 118,
   "metadata": {
    "colab": {
     "base_uri": "https://localhost:8080/",
     "height": 707
    },
    "id": "kqe9dIA3FKvV",
    "outputId": "02466990-4b82-4a54-8c8d-063c80c41f0c"
   },
   "outputs": [
    {
     "data": {
      "text/html": [
       "<div>\n",
       "<style scoped>\n",
       "    .dataframe tbody tr th:only-of-type {\n",
       "        vertical-align: middle;\n",
       "    }\n",
       "\n",
       "    .dataframe tbody tr th {\n",
       "        vertical-align: top;\n",
       "    }\n",
       "\n",
       "    .dataframe thead th {\n",
       "        text-align: right;\n",
       "    }\n",
       "</style>\n",
       "<table border=\"1\" class=\"dataframe\">\n",
       "  <thead>\n",
       "    <tr style=\"text-align: right;\">\n",
       "      <th></th>\n",
       "      <th>Model</th>\n",
       "      <th>Accuracy</th>\n",
       "      <th>Recall</th>\n",
       "      <th>Precision</th>\n",
       "      <th>F1 Score</th>\n",
       "    </tr>\n",
       "  </thead>\n",
       "  <tbody>\n",
       "    <tr>\n",
       "      <th>0</th>\n",
       "      <td>LogisticReg-Base</td>\n",
       "      <td>0.806854</td>\n",
       "      <td>0.000000</td>\n",
       "      <td>0.000000</td>\n",
       "      <td>0.000000</td>\n",
       "    </tr>\n",
       "    <tr>\n",
       "      <th>1</th>\n",
       "      <td>KNN-Base</td>\n",
       "      <td>0.762201</td>\n",
       "      <td>0.088710</td>\n",
       "      <td>0.217105</td>\n",
       "      <td>0.125954</td>\n",
       "    </tr>\n",
       "    <tr>\n",
       "      <th>2</th>\n",
       "      <td>Decision Tree-Gini</td>\n",
       "      <td>0.792835</td>\n",
       "      <td>0.483871</td>\n",
       "      <td>0.465116</td>\n",
       "      <td>0.474308</td>\n",
       "    </tr>\n",
       "    <tr>\n",
       "      <th>3</th>\n",
       "      <td>Decision Tree-Entropy</td>\n",
       "      <td>0.790239</td>\n",
       "      <td>0.481183</td>\n",
       "      <td>0.458974</td>\n",
       "      <td>0.469816</td>\n",
       "    </tr>\n",
       "    <tr>\n",
       "      <th>4</th>\n",
       "      <td>Decision Tree-Tuned</td>\n",
       "      <td>0.831776</td>\n",
       "      <td>0.419355</td>\n",
       "      <td>0.590909</td>\n",
       "      <td>0.490566</td>\n",
       "    </tr>\n",
       "    <tr>\n",
       "      <th>5</th>\n",
       "      <td>Gaussian NB</td>\n",
       "      <td>0.812046</td>\n",
       "      <td>0.209677</td>\n",
       "      <td>0.534247</td>\n",
       "      <td>0.301158</td>\n",
       "    </tr>\n",
       "    <tr>\n",
       "      <th>6</th>\n",
       "      <td>Bernoulli NB</td>\n",
       "      <td>0.797508</td>\n",
       "      <td>0.131720</td>\n",
       "      <td>0.422414</td>\n",
       "      <td>0.200820</td>\n",
       "    </tr>\n",
       "    <tr>\n",
       "      <th>7</th>\n",
       "      <td>Multinomial NB</td>\n",
       "      <td>0.531153</td>\n",
       "      <td>0.526882</td>\n",
       "      <td>0.212351</td>\n",
       "      <td>0.302703</td>\n",
       "    </tr>\n",
       "    <tr>\n",
       "      <th>8</th>\n",
       "      <td>Random Forest</td>\n",
       "      <td>0.862928</td>\n",
       "      <td>0.454301</td>\n",
       "      <td>0.734783</td>\n",
       "      <td>0.561462</td>\n",
       "    </tr>\n",
       "    <tr>\n",
       "      <th>9</th>\n",
       "      <td>Random Forest-Tunned</td>\n",
       "      <td>0.839564</td>\n",
       "      <td>0.220430</td>\n",
       "      <td>0.811881</td>\n",
       "      <td>0.346723</td>\n",
       "    </tr>\n",
       "    <tr>\n",
       "      <th>10</th>\n",
       "      <td>Bagging Classifier-dt</td>\n",
       "      <td>0.852544</td>\n",
       "      <td>0.438172</td>\n",
       "      <td>0.684874</td>\n",
       "      <td>0.534426</td>\n",
       "    </tr>\n",
       "    <tr>\n",
       "      <th>11</th>\n",
       "      <td>Bagging Classifier-knn</td>\n",
       "      <td>0.765317</td>\n",
       "      <td>0.069892</td>\n",
       "      <td>0.196970</td>\n",
       "      <td>0.103175</td>\n",
       "    </tr>\n",
       "    <tr>\n",
       "      <th>12</th>\n",
       "      <td>Bagging Classifier-Log</td>\n",
       "      <td>0.809450</td>\n",
       "      <td>0.088710</td>\n",
       "      <td>0.540984</td>\n",
       "      <td>0.152425</td>\n",
       "    </tr>\n",
       "    <tr>\n",
       "      <th>13</th>\n",
       "      <td>AdaBoost-dt</td>\n",
       "      <td>0.862409</td>\n",
       "      <td>0.465054</td>\n",
       "      <td>0.723849</td>\n",
       "      <td>0.566285</td>\n",
       "    </tr>\n",
       "    <tr>\n",
       "      <th>14</th>\n",
       "      <td>LogisticReg-Base-Smote</td>\n",
       "      <td>0.754413</td>\n",
       "      <td>0.338710</td>\n",
       "      <td>0.356941</td>\n",
       "      <td>0.347586</td>\n",
       "    </tr>\n",
       "    <tr>\n",
       "      <th>15</th>\n",
       "      <td>Gradient Boosting</td>\n",
       "      <td>0.858255</td>\n",
       "      <td>0.451613</td>\n",
       "      <td>0.708861</td>\n",
       "      <td>0.551724</td>\n",
       "    </tr>\n",
       "    <tr>\n",
       "      <th>16</th>\n",
       "      <td>XGB</td>\n",
       "      <td>0.865524</td>\n",
       "      <td>0.427419</td>\n",
       "      <td>0.775610</td>\n",
       "      <td>0.551127</td>\n",
       "    </tr>\n",
       "  </tbody>\n",
       "</table>\n",
       "</div>"
      ],
      "text/plain": [
       "                     Model  Accuracy    Recall  Precision  F1 Score\n",
       "0         LogisticReg-Base  0.806854  0.000000   0.000000  0.000000\n",
       "1                 KNN-Base  0.762201  0.088710   0.217105  0.125954\n",
       "2       Decision Tree-Gini  0.792835  0.483871   0.465116  0.474308\n",
       "3    Decision Tree-Entropy  0.790239  0.481183   0.458974  0.469816\n",
       "4      Decision Tree-Tuned  0.831776  0.419355   0.590909  0.490566\n",
       "5              Gaussian NB  0.812046  0.209677   0.534247  0.301158\n",
       "6             Bernoulli NB  0.797508  0.131720   0.422414  0.200820\n",
       "7           Multinomial NB  0.531153  0.526882   0.212351  0.302703\n",
       "8            Random Forest  0.862928  0.454301   0.734783  0.561462\n",
       "9     Random Forest-Tunned  0.839564  0.220430   0.811881  0.346723\n",
       "10   Bagging Classifier-dt  0.852544  0.438172   0.684874  0.534426\n",
       "11  Bagging Classifier-knn  0.765317  0.069892   0.196970  0.103175\n",
       "12  Bagging Classifier-Log  0.809450  0.088710   0.540984  0.152425\n",
       "13             AdaBoost-dt  0.862409  0.465054   0.723849  0.566285\n",
       "14  LogisticReg-Base-Smote  0.754413  0.338710   0.356941  0.347586\n",
       "15       Gradient Boosting  0.858255  0.451613   0.708861  0.551724\n",
       "16                     XGB  0.865524  0.427419   0.775610  0.551127"
      ]
     },
     "execution_count": 118,
     "metadata": {},
     "output_type": "execute_result"
    }
   ],
   "source": [
    "update_performance(name = 'XGB', model = xgb,test=ytest,pred=ypred_xgb)\n",
    "\n",
    "# print the dataframe\n",
    "perf_score"
   ]
  },
  {
   "cell_type": "markdown",
   "metadata": {
    "id": "QM3h7WnKzPDX"
   },
   "source": [
    "### STACKING"
   ]
  },
  {
   "cell_type": "code",
   "execution_count": 119,
   "metadata": {
    "id": "nm8DtAQQu5UI"
   },
   "outputs": [],
   "source": [
    "from sklearn.ensemble import StackingClassifier"
   ]
  },
  {
   "cell_type": "code",
   "execution_count": 120,
   "metadata": {
    "id": "vxr2UWQI0Skv"
   },
   "outputs": [],
   "source": [
    "lr=LogisticRegression()\n",
    "knn=KNeighborsClassifier()\n",
    "dt=DecisionTreeClassifier()"
   ]
  },
  {
   "cell_type": "code",
   "execution_count": 121,
   "metadata": {
    "colab": {
     "base_uri": "https://localhost:8080/"
    },
    "id": "_5OqoHwgu474",
    "outputId": "6a2571cd-111d-4cbc-8127-53f6be00465d"
   },
   "outputs": [],
   "source": [
    "base_learners=[('lr_model',lr),('knn_model',knn),('DT_model',dt)]\n",
    "\n",
    "stack =StackingClassifier(estimators=base_learners,\n",
    "                          final_estimator=GaussianNB())\n",
    "stack.fit(xtrain,ytrain)\n",
    "ypred_stack = stack.predict(xtest)\n",
    "#print(accuracy_score(ytest,ypred_stack))"
   ]
  },
  {
   "cell_type": "markdown",
   "metadata": {
    "id": "mD--lII7SgwA"
   },
   "source": [
    "Summarizing the performance"
   ]
  },
  {
   "cell_type": "code",
   "execution_count": 122,
   "metadata": {
    "colab": {
     "base_uri": "https://localhost:8080/",
     "height": 739
    },
    "id": "7aZpEycrSlE2",
    "outputId": "7532725f-9d97-49b6-9c6b-35386d645514"
   },
   "outputs": [
    {
     "data": {
      "text/html": [
       "<div>\n",
       "<style scoped>\n",
       "    .dataframe tbody tr th:only-of-type {\n",
       "        vertical-align: middle;\n",
       "    }\n",
       "\n",
       "    .dataframe tbody tr th {\n",
       "        vertical-align: top;\n",
       "    }\n",
       "\n",
       "    .dataframe thead th {\n",
       "        text-align: right;\n",
       "    }\n",
       "</style>\n",
       "<table border=\"1\" class=\"dataframe\">\n",
       "  <thead>\n",
       "    <tr style=\"text-align: right;\">\n",
       "      <th></th>\n",
       "      <th>Model</th>\n",
       "      <th>Accuracy</th>\n",
       "      <th>Recall</th>\n",
       "      <th>Precision</th>\n",
       "      <th>F1 Score</th>\n",
       "    </tr>\n",
       "  </thead>\n",
       "  <tbody>\n",
       "    <tr>\n",
       "      <th>0</th>\n",
       "      <td>LogisticReg-Base</td>\n",
       "      <td>0.806854</td>\n",
       "      <td>0.000000</td>\n",
       "      <td>0.000000</td>\n",
       "      <td>0.000000</td>\n",
       "    </tr>\n",
       "    <tr>\n",
       "      <th>1</th>\n",
       "      <td>KNN-Base</td>\n",
       "      <td>0.762201</td>\n",
       "      <td>0.088710</td>\n",
       "      <td>0.217105</td>\n",
       "      <td>0.125954</td>\n",
       "    </tr>\n",
       "    <tr>\n",
       "      <th>2</th>\n",
       "      <td>Decision Tree-Gini</td>\n",
       "      <td>0.792835</td>\n",
       "      <td>0.483871</td>\n",
       "      <td>0.465116</td>\n",
       "      <td>0.474308</td>\n",
       "    </tr>\n",
       "    <tr>\n",
       "      <th>3</th>\n",
       "      <td>Decision Tree-Entropy</td>\n",
       "      <td>0.790239</td>\n",
       "      <td>0.481183</td>\n",
       "      <td>0.458974</td>\n",
       "      <td>0.469816</td>\n",
       "    </tr>\n",
       "    <tr>\n",
       "      <th>4</th>\n",
       "      <td>Decision Tree-Tuned</td>\n",
       "      <td>0.831776</td>\n",
       "      <td>0.419355</td>\n",
       "      <td>0.590909</td>\n",
       "      <td>0.490566</td>\n",
       "    </tr>\n",
       "    <tr>\n",
       "      <th>5</th>\n",
       "      <td>Gaussian NB</td>\n",
       "      <td>0.812046</td>\n",
       "      <td>0.209677</td>\n",
       "      <td>0.534247</td>\n",
       "      <td>0.301158</td>\n",
       "    </tr>\n",
       "    <tr>\n",
       "      <th>6</th>\n",
       "      <td>Bernoulli NB</td>\n",
       "      <td>0.797508</td>\n",
       "      <td>0.131720</td>\n",
       "      <td>0.422414</td>\n",
       "      <td>0.200820</td>\n",
       "    </tr>\n",
       "    <tr>\n",
       "      <th>7</th>\n",
       "      <td>Multinomial NB</td>\n",
       "      <td>0.531153</td>\n",
       "      <td>0.526882</td>\n",
       "      <td>0.212351</td>\n",
       "      <td>0.302703</td>\n",
       "    </tr>\n",
       "    <tr>\n",
       "      <th>8</th>\n",
       "      <td>Random Forest</td>\n",
       "      <td>0.862928</td>\n",
       "      <td>0.454301</td>\n",
       "      <td>0.734783</td>\n",
       "      <td>0.561462</td>\n",
       "    </tr>\n",
       "    <tr>\n",
       "      <th>9</th>\n",
       "      <td>Random Forest-Tunned</td>\n",
       "      <td>0.839564</td>\n",
       "      <td>0.220430</td>\n",
       "      <td>0.811881</td>\n",
       "      <td>0.346723</td>\n",
       "    </tr>\n",
       "    <tr>\n",
       "      <th>10</th>\n",
       "      <td>Bagging Classifier-dt</td>\n",
       "      <td>0.852544</td>\n",
       "      <td>0.438172</td>\n",
       "      <td>0.684874</td>\n",
       "      <td>0.534426</td>\n",
       "    </tr>\n",
       "    <tr>\n",
       "      <th>11</th>\n",
       "      <td>Bagging Classifier-knn</td>\n",
       "      <td>0.765317</td>\n",
       "      <td>0.069892</td>\n",
       "      <td>0.196970</td>\n",
       "      <td>0.103175</td>\n",
       "    </tr>\n",
       "    <tr>\n",
       "      <th>12</th>\n",
       "      <td>Bagging Classifier-Log</td>\n",
       "      <td>0.809450</td>\n",
       "      <td>0.088710</td>\n",
       "      <td>0.540984</td>\n",
       "      <td>0.152425</td>\n",
       "    </tr>\n",
       "    <tr>\n",
       "      <th>13</th>\n",
       "      <td>AdaBoost-dt</td>\n",
       "      <td>0.862409</td>\n",
       "      <td>0.465054</td>\n",
       "      <td>0.723849</td>\n",
       "      <td>0.566285</td>\n",
       "    </tr>\n",
       "    <tr>\n",
       "      <th>14</th>\n",
       "      <td>LogisticReg-Base-Smote</td>\n",
       "      <td>0.754413</td>\n",
       "      <td>0.338710</td>\n",
       "      <td>0.356941</td>\n",
       "      <td>0.347586</td>\n",
       "    </tr>\n",
       "    <tr>\n",
       "      <th>15</th>\n",
       "      <td>Gradient Boosting</td>\n",
       "      <td>0.858255</td>\n",
       "      <td>0.451613</td>\n",
       "      <td>0.708861</td>\n",
       "      <td>0.551724</td>\n",
       "    </tr>\n",
       "    <tr>\n",
       "      <th>16</th>\n",
       "      <td>XGB</td>\n",
       "      <td>0.865524</td>\n",
       "      <td>0.427419</td>\n",
       "      <td>0.775610</td>\n",
       "      <td>0.551127</td>\n",
       "    </tr>\n",
       "    <tr>\n",
       "      <th>17</th>\n",
       "      <td>Stacking</td>\n",
       "      <td>0.798027</td>\n",
       "      <td>0.510753</td>\n",
       "      <td>0.478589</td>\n",
       "      <td>0.494148</td>\n",
       "    </tr>\n",
       "  </tbody>\n",
       "</table>\n",
       "</div>"
      ],
      "text/plain": [
       "                     Model  Accuracy    Recall  Precision  F1 Score\n",
       "0         LogisticReg-Base  0.806854  0.000000   0.000000  0.000000\n",
       "1                 KNN-Base  0.762201  0.088710   0.217105  0.125954\n",
       "2       Decision Tree-Gini  0.792835  0.483871   0.465116  0.474308\n",
       "3    Decision Tree-Entropy  0.790239  0.481183   0.458974  0.469816\n",
       "4      Decision Tree-Tuned  0.831776  0.419355   0.590909  0.490566\n",
       "5              Gaussian NB  0.812046  0.209677   0.534247  0.301158\n",
       "6             Bernoulli NB  0.797508  0.131720   0.422414  0.200820\n",
       "7           Multinomial NB  0.531153  0.526882   0.212351  0.302703\n",
       "8            Random Forest  0.862928  0.454301   0.734783  0.561462\n",
       "9     Random Forest-Tunned  0.839564  0.220430   0.811881  0.346723\n",
       "10   Bagging Classifier-dt  0.852544  0.438172   0.684874  0.534426\n",
       "11  Bagging Classifier-knn  0.765317  0.069892   0.196970  0.103175\n",
       "12  Bagging Classifier-Log  0.809450  0.088710   0.540984  0.152425\n",
       "13             AdaBoost-dt  0.862409  0.465054   0.723849  0.566285\n",
       "14  LogisticReg-Base-Smote  0.754413  0.338710   0.356941  0.347586\n",
       "15       Gradient Boosting  0.858255  0.451613   0.708861  0.551724\n",
       "16                     XGB  0.865524  0.427419   0.775610  0.551127\n",
       "17                Stacking  0.798027  0.510753   0.478589  0.494148"
      ]
     },
     "execution_count": 122,
     "metadata": {},
     "output_type": "execute_result"
    }
   ],
   "source": [
    "update_performance(name = 'Stacking', model = stack,test=ytest,pred=ypred_stack)\n",
    "\n",
    "# print the dataframe\n",
    "perf_score"
   ]
  },
  {
   "cell_type": "code",
   "execution_count": null,
   "metadata": {
    "id": "iA0oqJLUSlBn"
   },
   "outputs": [],
   "source": []
  },
  {
   "cell_type": "markdown",
   "metadata": {
    "id": "PupfZ8Sf3xMn"
   },
   "source": [
    "### Voting Classifier"
   ]
  },
  {
   "cell_type": "code",
   "execution_count": 123,
   "metadata": {
    "id": "S5hXAGtj31Et"
   },
   "outputs": [],
   "source": [
    "from sklearn.ensemble import VotingClassifier"
   ]
  },
  {
   "cell_type": "code",
   "execution_count": 124,
   "metadata": {
    "colab": {
     "base_uri": "https://localhost:8080/"
    },
    "id": "4a9DHcSc4XeA",
    "outputId": "b37aa732-1933-4f73-adc4-8b3f38634799"
   },
   "outputs": [
    {
     "name": "stdout",
     "output_type": "stream",
     "text": [
      "0.8042575285565939\n"
     ]
    }
   ],
   "source": [
    "vote_hard =VotingClassifier(estimators=base_learners )\n",
    "\n",
    "vote_hard.fit(xtrain,ytrain)\n",
    "ypred_vote = vote_hard.predict(xtest)\n",
    "print(accuracy_score(ytest,ypred_vote))"
   ]
  },
  {
   "cell_type": "code",
   "execution_count": 125,
   "metadata": {
    "colab": {
     "base_uri": "https://localhost:8080/"
    },
    "id": "pst0vz8b4XZC",
    "outputId": "9b9579f5-37a3-4ff9-af40-9eadcdd9270b"
   },
   "outputs": [
    {
     "name": "stdout",
     "output_type": "stream",
     "text": [
      "0.8094496365524403\n"
     ]
    }
   ],
   "source": [
    "vote_soft =VotingClassifier(estimators=base_learners ,voting='soft')\n",
    "\n",
    "vote_soft.fit(xtrain,ytrain)\n",
    "ypred_vote = vote_soft.predict(xtest)\n",
    "print(accuracy_score(ytest,ypred_vote))"
   ]
  },
  {
   "cell_type": "markdown",
   "metadata": {
    "id": "mryoi-d1TCO4"
   },
   "source": [
    "Summarizing the performance"
   ]
  },
  {
   "cell_type": "code",
   "execution_count": 126,
   "metadata": {
    "colab": {
     "base_uri": "https://localhost:8080/",
     "height": 770
    },
    "id": "idUTXFQl4XWJ",
    "outputId": "7e237ac0-ad1b-46ab-ae02-dbd5cf802d47",
    "scrolled": false
   },
   "outputs": [
    {
     "data": {
      "text/html": [
       "<div>\n",
       "<style scoped>\n",
       "    .dataframe tbody tr th:only-of-type {\n",
       "        vertical-align: middle;\n",
       "    }\n",
       "\n",
       "    .dataframe tbody tr th {\n",
       "        vertical-align: top;\n",
       "    }\n",
       "\n",
       "    .dataframe thead th {\n",
       "        text-align: right;\n",
       "    }\n",
       "</style>\n",
       "<table border=\"1\" class=\"dataframe\">\n",
       "  <thead>\n",
       "    <tr style=\"text-align: right;\">\n",
       "      <th></th>\n",
       "      <th>Model</th>\n",
       "      <th>Accuracy</th>\n",
       "      <th>Recall</th>\n",
       "      <th>Precision</th>\n",
       "      <th>F1 Score</th>\n",
       "    </tr>\n",
       "  </thead>\n",
       "  <tbody>\n",
       "    <tr>\n",
       "      <th>0</th>\n",
       "      <td>LogisticReg-Base</td>\n",
       "      <td>0.806854</td>\n",
       "      <td>0.000000</td>\n",
       "      <td>0.000000</td>\n",
       "      <td>0.000000</td>\n",
       "    </tr>\n",
       "    <tr>\n",
       "      <th>1</th>\n",
       "      <td>KNN-Base</td>\n",
       "      <td>0.762201</td>\n",
       "      <td>0.088710</td>\n",
       "      <td>0.217105</td>\n",
       "      <td>0.125954</td>\n",
       "    </tr>\n",
       "    <tr>\n",
       "      <th>2</th>\n",
       "      <td>Decision Tree-Gini</td>\n",
       "      <td>0.792835</td>\n",
       "      <td>0.483871</td>\n",
       "      <td>0.465116</td>\n",
       "      <td>0.474308</td>\n",
       "    </tr>\n",
       "    <tr>\n",
       "      <th>3</th>\n",
       "      <td>Decision Tree-Entropy</td>\n",
       "      <td>0.790239</td>\n",
       "      <td>0.481183</td>\n",
       "      <td>0.458974</td>\n",
       "      <td>0.469816</td>\n",
       "    </tr>\n",
       "    <tr>\n",
       "      <th>4</th>\n",
       "      <td>Decision Tree-Tuned</td>\n",
       "      <td>0.831776</td>\n",
       "      <td>0.419355</td>\n",
       "      <td>0.590909</td>\n",
       "      <td>0.490566</td>\n",
       "    </tr>\n",
       "    <tr>\n",
       "      <th>5</th>\n",
       "      <td>Gaussian NB</td>\n",
       "      <td>0.812046</td>\n",
       "      <td>0.209677</td>\n",
       "      <td>0.534247</td>\n",
       "      <td>0.301158</td>\n",
       "    </tr>\n",
       "    <tr>\n",
       "      <th>6</th>\n",
       "      <td>Bernoulli NB</td>\n",
       "      <td>0.797508</td>\n",
       "      <td>0.131720</td>\n",
       "      <td>0.422414</td>\n",
       "      <td>0.200820</td>\n",
       "    </tr>\n",
       "    <tr>\n",
       "      <th>7</th>\n",
       "      <td>Multinomial NB</td>\n",
       "      <td>0.531153</td>\n",
       "      <td>0.526882</td>\n",
       "      <td>0.212351</td>\n",
       "      <td>0.302703</td>\n",
       "    </tr>\n",
       "    <tr>\n",
       "      <th>8</th>\n",
       "      <td>Random Forest</td>\n",
       "      <td>0.862928</td>\n",
       "      <td>0.454301</td>\n",
       "      <td>0.734783</td>\n",
       "      <td>0.561462</td>\n",
       "    </tr>\n",
       "    <tr>\n",
       "      <th>9</th>\n",
       "      <td>Random Forest-Tunned</td>\n",
       "      <td>0.839564</td>\n",
       "      <td>0.220430</td>\n",
       "      <td>0.811881</td>\n",
       "      <td>0.346723</td>\n",
       "    </tr>\n",
       "    <tr>\n",
       "      <th>10</th>\n",
       "      <td>Bagging Classifier-dt</td>\n",
       "      <td>0.852544</td>\n",
       "      <td>0.438172</td>\n",
       "      <td>0.684874</td>\n",
       "      <td>0.534426</td>\n",
       "    </tr>\n",
       "    <tr>\n",
       "      <th>11</th>\n",
       "      <td>Bagging Classifier-knn</td>\n",
       "      <td>0.765317</td>\n",
       "      <td>0.069892</td>\n",
       "      <td>0.196970</td>\n",
       "      <td>0.103175</td>\n",
       "    </tr>\n",
       "    <tr>\n",
       "      <th>12</th>\n",
       "      <td>Bagging Classifier-Log</td>\n",
       "      <td>0.809450</td>\n",
       "      <td>0.088710</td>\n",
       "      <td>0.540984</td>\n",
       "      <td>0.152425</td>\n",
       "    </tr>\n",
       "    <tr>\n",
       "      <th>13</th>\n",
       "      <td>AdaBoost-dt</td>\n",
       "      <td>0.862409</td>\n",
       "      <td>0.465054</td>\n",
       "      <td>0.723849</td>\n",
       "      <td>0.566285</td>\n",
       "    </tr>\n",
       "    <tr>\n",
       "      <th>14</th>\n",
       "      <td>LogisticReg-Base-Smote</td>\n",
       "      <td>0.754413</td>\n",
       "      <td>0.338710</td>\n",
       "      <td>0.356941</td>\n",
       "      <td>0.347586</td>\n",
       "    </tr>\n",
       "    <tr>\n",
       "      <th>15</th>\n",
       "      <td>Gradient Boosting</td>\n",
       "      <td>0.858255</td>\n",
       "      <td>0.451613</td>\n",
       "      <td>0.708861</td>\n",
       "      <td>0.551724</td>\n",
       "    </tr>\n",
       "    <tr>\n",
       "      <th>16</th>\n",
       "      <td>XGB</td>\n",
       "      <td>0.865524</td>\n",
       "      <td>0.427419</td>\n",
       "      <td>0.775610</td>\n",
       "      <td>0.551127</td>\n",
       "    </tr>\n",
       "    <tr>\n",
       "      <th>17</th>\n",
       "      <td>Stacking</td>\n",
       "      <td>0.798027</td>\n",
       "      <td>0.510753</td>\n",
       "      <td>0.478589</td>\n",
       "      <td>0.494148</td>\n",
       "    </tr>\n",
       "    <tr>\n",
       "      <th>18</th>\n",
       "      <td>Voting</td>\n",
       "      <td>0.809450</td>\n",
       "      <td>0.193548</td>\n",
       "      <td>0.517986</td>\n",
       "      <td>0.281800</td>\n",
       "    </tr>\n",
       "  </tbody>\n",
       "</table>\n",
       "</div>"
      ],
      "text/plain": [
       "                     Model  Accuracy    Recall  Precision  F1 Score\n",
       "0         LogisticReg-Base  0.806854  0.000000   0.000000  0.000000\n",
       "1                 KNN-Base  0.762201  0.088710   0.217105  0.125954\n",
       "2       Decision Tree-Gini  0.792835  0.483871   0.465116  0.474308\n",
       "3    Decision Tree-Entropy  0.790239  0.481183   0.458974  0.469816\n",
       "4      Decision Tree-Tuned  0.831776  0.419355   0.590909  0.490566\n",
       "5              Gaussian NB  0.812046  0.209677   0.534247  0.301158\n",
       "6             Bernoulli NB  0.797508  0.131720   0.422414  0.200820\n",
       "7           Multinomial NB  0.531153  0.526882   0.212351  0.302703\n",
       "8            Random Forest  0.862928  0.454301   0.734783  0.561462\n",
       "9     Random Forest-Tunned  0.839564  0.220430   0.811881  0.346723\n",
       "10   Bagging Classifier-dt  0.852544  0.438172   0.684874  0.534426\n",
       "11  Bagging Classifier-knn  0.765317  0.069892   0.196970  0.103175\n",
       "12  Bagging Classifier-Log  0.809450  0.088710   0.540984  0.152425\n",
       "13             AdaBoost-dt  0.862409  0.465054   0.723849  0.566285\n",
       "14  LogisticReg-Base-Smote  0.754413  0.338710   0.356941  0.347586\n",
       "15       Gradient Boosting  0.858255  0.451613   0.708861  0.551724\n",
       "16                     XGB  0.865524  0.427419   0.775610  0.551127\n",
       "17                Stacking  0.798027  0.510753   0.478589  0.494148\n",
       "18                  Voting  0.809450  0.193548   0.517986  0.281800"
      ]
     },
     "execution_count": 126,
     "metadata": {},
     "output_type": "execute_result"
    }
   ],
   "source": [
    "update_performance(name = 'Voting', model = vote_soft,test=ytest,pred=ypred_vote)\n",
    "\n",
    "# print the dataframe\n",
    "perf_score"
   ]
  },
  {
   "cell_type": "code",
   "execution_count": null,
   "metadata": {},
   "outputs": [],
   "source": []
  }
 ],
 "metadata": {
  "colab": {
   "name": "ML2_ESA_Solutions_Sep21.ipynb",
   "provenance": []
  },
  "kernelspec": {
   "display_name": "Python 3 (ipykernel)",
   "language": "python",
   "name": "python3"
  },
  "language_info": {
   "codemirror_mode": {
    "name": "ipython",
    "version": 3
   },
   "file_extension": ".py",
   "mimetype": "text/x-python",
   "name": "python",
   "nbconvert_exporter": "python",
   "pygments_lexer": "ipython3",
   "version": "3.10.9"
  }
 },
 "nbformat": 4,
 "nbformat_minor": 1
}
